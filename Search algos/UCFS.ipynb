{
 "cells": [
  {
   "cell_type": "code",
   "execution_count": 6,
   "metadata": {},
   "outputs": [],
   "source": [
    "def input_dict():\n",
    "    n=int(input())\n",
    "    d={int(input(\"Enter the node value\")):[list(map(int,input(\"Enter value of node followed by weight\").split())) for i in range(int(input(\"Enter the number of adjacent nodes\")))] for i in range(n)}\n",
    "    for i,j in d.items():\n",
    "        print(\"[\",i,\"]\",\" -> \",j)\n",
    "    return d\n",
    "##input_dict()\n",
    "    "
   ]
  },
  {
   "cell_type": "code",
   "execution_count": null,
   "metadata": {},
   "outputs": [],
   "source": []
  },
  {
   "cell_type": "code",
   "execution_count": 4,
   "metadata": {},
   "outputs": [],
   "source": [
    "def sort(q):\n",
    "    min=0\n",
    "    temp=[]\n",
    "    for i in range(len(q)-1):\n",
    "        min=i\n",
    "        for j in range(i+1,len(q)):\n",
    "            if q[j][1]<q[min][1]:\n",
    "                min=j\n",
    "        temp=q[i]\n",
    "        q[i]=q[min]\n",
    "        q[min]=temp\n"
   ]
  },
  {
   "cell_type": "code",
   "execution_count": 5,
   "metadata": {},
   "outputs": [
    {
     "name": "stdout",
     "output_type": "stream",
     "text": [
      "[['b', 1], ['a', 3], ['d', 4], ['c', 7]]\n"
     ]
    }
   ],
   "source": [
    "q=[['a',3],['b',1],['c',7],['d',4]]\n",
    "sort(q)\n",
    "print(q)"
   ]
  },
  {
   "cell_type": "code",
   "execution_count": null,
   "metadata": {},
   "outputs": [],
   "source": [
    "def ucs():\n",
    "    q=[]\n",
    "    ans=[]\n",
    "    ans_cost=[]\n",
    "    goal='G'\n",
    "    graph=input_dict()\n",
    "    keys=list(graph.keys())\n",
    "    q.append([keys[0],0])\n",
    "    ans.append(keys[0])\n",
    "    ans_cost.append(0)\n",
    "    while(len(q) > 0):\n",
    "        sort(q)\n",
    "        temp=q.pop(0)\n",
    "        if temp[0]==goal:\n",
    "            ans"
   ]
  }
 ],
 "metadata": {
  "interpreter": {
   "hash": "aecd030d4c8316a52bf122072e28f84bcc79844c2684e041fef2e3f1d9f59078"
  },
  "kernelspec": {
   "display_name": "Python 3.10.2 64-bit",
   "language": "python",
   "name": "python3"
  },
  "language_info": {
   "codemirror_mode": {
    "name": "ipython",
    "version": 3
   },
   "file_extension": ".py",
   "mimetype": "text/x-python",
   "name": "python",
   "nbconvert_exporter": "python",
   "pygments_lexer": "ipython3",
   "version": "3.10.2"
  },
  "orig_nbformat": 4
 },
 "nbformat": 4,
 "nbformat_minor": 2
}
