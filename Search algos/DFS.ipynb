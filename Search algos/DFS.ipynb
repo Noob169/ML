{
 "cells": [
  {
   "cell_type": "code",
   "execution_count": null,
   "metadata": {},
   "outputs": [],
   "source": [
    "def check(str,vis_q):\n",
    "    for k in vis_q:\n",
    "        if k==str:\n",
    "            return 1\n",
    "    return 0;\n",
    "\n",
    "check('a','cbc')"
   ]
  },
  {
   "cell_type": "code",
   "execution_count": null,
   "metadata": {},
   "outputs": [],
   "source": [
    "def adj_list_input(adj_list):\n",
    "    n=int(input(\"Enter the number of nodes: \"))\n",
    "    adj_list={input(\"Enter the node:\"):input(\"Enter its neighbouring nodes in space separated format, 0 if no nodes:\").split() for i in range(n)}\n",
    "    print(\"The adjacency list representation of the given graph is:\")\n",
    "    for i,j in adj_list.items():\n",
    "        print(i,\" -> \",j)\n",
    "    return adj_list\n",
    "\n",
    "adj_list_input({})"
   ]
  },
  {
   "cell_type": "code",
   "execution_count": 23,
   "metadata": {},
   "outputs": [
    {
     "name": "stdout",
     "output_type": "stream",
     "text": [
      "The adjacency list representation of the given graph is:\n",
      "0  ->  ['3', '2', '1']\n",
      "3  ->  ['0']\n",
      "1  ->  ['0', '2']\n",
      "2  ->  ['1', '0', '4']\n",
      "4  ->  ['0']\n",
      "0\n",
      "1\n",
      "2\n",
      "4\n",
      "3\n"
     ]
    }
   ],
   "source": [
    "def dfs():\n",
    "    graph=adj_list_input({})\n",
    "    stack=[]\n",
    "    vis_stack=[]\n",
    "    first_key=list(graph.keys())\n",
    "    stack.append(first_key[0])\n",
    "    while(len(stack)>0):\n",
    "        temp_key=stack.pop()\n",
    "        vis_stack.append(temp_key)\n",
    "        print(temp_key)\n",
    "        if (graph[temp_key])[0]!='0':\n",
    "            for values in graph[temp_key]:\n",
    "                if check(values,vis_stack)==0:\n",
    "                    stack.append(values)\n",
    "\n",
    "dfs()\n",
    "\n"
   ]
  }
 ],
 "metadata": {
  "interpreter": {
   "hash": "88258a9b74f166d2a142bec26623f1a446cf339eda32333a291a5fde34038df3"
  },
  "kernelspec": {
   "display_name": "Python 3.9.7 ('base')",
   "language": "python",
   "name": "python3"
  },
  "language_info": {
   "codemirror_mode": {
    "name": "ipython",
    "version": 3
   },
   "file_extension": ".py",
   "mimetype": "text/x-python",
   "name": "python",
   "nbconvert_exporter": "python",
   "pygments_lexer": "ipython3",
   "version": "3.10.2"
  },
  "orig_nbformat": 4
 },
 "nbformat": 4,
 "nbformat_minor": 2
}
