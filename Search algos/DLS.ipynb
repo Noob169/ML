{
 "cells": [
  {
   "cell_type": "code",
   "execution_count": 32,
   "metadata": {},
   "outputs": [],
   "source": [
    "vis_q=[]\n",
    "##graph={'H':['A'],'A':['D','B'],'B':['C','F'],'C':['G','E'],'G':['E'],'E':['F','B'],'F':['A'],'D':['F']}\n",
    "graph={input(\"Enter node: \"):input(\"Enter adjacent nodes: \").split() for i in range(int(input(\"Enter number of nodes: \")))}\n",
    "m=int(input(\"Enter max_depth: \"))"
   ]
  },
  {
   "cell_type": "code",
   "execution_count": 33,
   "metadata": {},
   "outputs": [],
   "source": [
    "def check(node):\n",
    "    for i in vis_q:\n",
    "        if i==node:\n",
    "            return 1\n",
    "    return 0"
   ]
  },
  {
   "cell_type": "code",
   "execution_count": 34,
   "metadata": {},
   "outputs": [],
   "source": [
    "def dls(d,q):\n",
    "    if d==m:\n",
    "        while(len(q)>0):\n",
    "            print(q.pop())\n",
    "    else:\n",
    "        nq=[]\n",
    "        while(len(q)>0):\n",
    "            temp=q.pop()\n",
    "            print(temp)\n",
    "            for node in graph[temp]:\n",
    "                if check(node)==0:\n",
    "                    nq.append(node)\n",
    "                    vis_q.append(node)\n",
    "            if len(nq)>0:\n",
    "                dls(d+1,nq)"
   ]
  },
  {
   "cell_type": "code",
   "execution_count": 35,
   "metadata": {},
   "outputs": [
    {
     "name": "stdout",
     "output_type": "stream",
     "text": [
      "{'S': ['A', 'E'], 'A': ['D', 'B', 'C'], 'B': ['C'], 'E': ['B', 'F'], 'F': ['G'], 'G': ['C'], 'C': [], 'D': ['C']}\n"
     ]
    }
   ],
   "source": [
    "print(graph)"
   ]
  },
  {
   "cell_type": "code",
   "execution_count": 36,
   "metadata": {},
   "outputs": [
    {
     "name": "stdout",
     "output_type": "stream",
     "text": [
      "['S', 'A', 'B', 'E', 'F', 'G', 'C', 'D']\n",
      "S\n",
      "E\n",
      "F\n",
      "G\n",
      "B\n",
      "C\n",
      "A\n",
      "D\n"
     ]
    }
   ],
   "source": [
    "keys=list(graph.keys())\n",
    "print(keys)\n",
    "vis_q.append(keys[0])\n",
    "dls(0,[keys[0]])"
   ]
  }
 ],
 "metadata": {
  "interpreter": {
   "hash": "aecd030d4c8316a52bf122072e28f84bcc79844c2684e041fef2e3f1d9f59078"
  },
  "kernelspec": {
   "display_name": "Python 3.10.2 64-bit",
   "language": "python",
   "name": "python3"
  },
  "language_info": {
   "codemirror_mode": {
    "name": "ipython",
    "version": 3
   },
   "file_extension": ".py",
   "mimetype": "text/x-python",
   "name": "python",
   "nbconvert_exporter": "python",
   "pygments_lexer": "ipython3",
   "version": "3.10.2"
  },
  "orig_nbformat": 4
 },
 "nbformat": 4,
 "nbformat_minor": 2
}
