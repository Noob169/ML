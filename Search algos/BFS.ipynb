{
  "cells": [
    {
      "cell_type": "code",
      "execution_count": 3,
      "metadata": {
        "id": "RKhj1OIZqG_j"
      },
      "outputs": [],
      "source": [
        "def getKeys():\n",
        "    n=int(input(\"Enter the number of nodes\"))\n",
        "    adj_list={input(\"Enter key\"):input(\"Enter nodes separated by commas, enter '0' if no children\").split(',') for i in range(n)}\n",
        "    # print(adj_list)\n",
        "    # adj_list=dict()\n",
        "    # adj_list['b']=2\n",
        "    print_graph(adj_list)\n",
        "    return adj_list\n"
      ]
    },
    {
      "cell_type": "code",
      "execution_count": 4,
      "metadata": {},
      "outputs": [],
      "source": [
        "def print_graph(adj_list):\n",
        "    print(\"Adjacency list rep of graph:\\n\")\n",
        "    for i, j in adj_list.items():\n",
        "        print(\"[\",i,\"]\",\"->\",j,\"\\n\")"
      ]
    },
    {
      "cell_type": "code",
      "execution_count": 5,
      "metadata": {
        "id": "uHQK3Hv8qG_l"
      },
      "outputs": [],
      "source": [
        "def check(i,vis):\n",
        "    for k in vis:\n",
        "        if k==i:\n",
        "            return 1\n",
        "    return 0;"
      ]
    },
    {
      "cell_type": "code",
      "execution_count": 6,
      "metadata": {
        "id": "skj-kJ4eIknI"
      },
      "outputs": [],
      "source": [
        "def empty(q):\n",
        "    return 0 if q[0]=='0' else 1"
      ]
    },
    {
      "cell_type": "code",
      "execution_count": 7,
      "metadata": {
        "id": "C_o5EmUCqG_o"
      },
      "outputs": [],
      "source": [
        "def bfs():\n",
        "    q=list()\n",
        "    vis=list()\n",
        "    sl=list()\n",
        "    adj_list=getKeys()\n",
        "    print(\"\\nThe BFS result:\\n\")\n",
        "    while(len(vis)<len(adj_list.keys())):\n",
        "        for i,j in adj_list.items():\n",
        "            if check(i,vis)==0:\n",
        "                q.append(i)\n",
        "        k=q.pop()\n",
        "        sl.insert(0,k)\n",
        "        vis.append(k)\n",
        "        if empty(q)==0:\n",
        "            for l in adj_list[q]:\n",
        "                if check(l,vis)==0:\n",
        "                    q.append(l)\n",
        "    for i in sl:\n",
        "        print(i,\" \")\n",
        "\n",
        "    \n"
      ]
    },
    {
      "cell_type": "code",
      "execution_count": 13,
      "metadata": {},
      "outputs": [],
      "source": [
        "def bfs2():\n",
        "    graph=getKeys()\n",
        "    vis_q=[]\n",
        "    q=[]\n",
        "    print(\"\\nThe BFS result:\\n\")\n",
        "    keys=list(graph.keys())\n",
        "    q.append(keys[0])\n",
        "    vis_q.append(keys[0])\n",
        "    while(len(q)>0):\n",
        "        temp=q.pop(0)\n",
        "        print(temp,end=\" \")\n",
        "        if (graph[temp])[0]!='0':\n",
        "            for nodes in graph[temp]:\n",
        "                if check(nodes,vis_q)==0:\n",
        "                    q.append(nodes)\n",
        "                    vis_q.append(nodes)\n"
      ]
    },
    {
      "cell_type": "code",
      "execution_count": 14,
      "metadata": {},
      "outputs": [
        {
          "name": "stdout",
          "output_type": "stream",
          "text": [
            "Adjacency list rep of graph:\n",
            "\n",
            "[ 1 ] -> ['2', '3'] \n",
            "\n",
            "[ 2 ] -> ['0'] \n",
            "\n",
            "[ 3 ] -> ['0'] \n",
            "\n",
            "\n",
            "The BFS result:\n",
            "\n",
            "1 2 3 "
          ]
        }
      ],
      "source": [
        "bfs2()"
      ]
    },
    {
      "cell_type": "code",
      "execution_count": 8,
      "metadata": {
        "colab": {
          "base_uri": "https://localhost:8080/"
        },
        "id": "AHUhtj5ZqG_r",
        "outputId": "1552ab8a-a03e-4869-aa68-85416e3d7647"
      },
      "outputs": [
        {
          "name": "stdout",
          "output_type": "stream",
          "text": [
            "Adjacency list rep of graph:\n",
            "\n",
            "[ 1 ] -> ['2', '3'] \n",
            "\n",
            "[ 2 ] -> ['1', '3'] \n",
            "\n",
            "[ 3 ] -> ['1', '2'] \n",
            "\n",
            "\n",
            "The BFS result:\n",
            "\n",
            "1  \n",
            "2  \n",
            "3  \n"
          ]
        }
      ],
      "source": [
        "bfs()"
      ]
    }
  ],
  "metadata": {
    "colab": {
      "name": "dict.ipynb",
      "provenance": []
    },
    "interpreter": {
      "hash": "42588fd11209419b7c81abe23e31a1d2101f60811b02170c268e57ebb57d5d9a"
    },
    "kernelspec": {
      "display_name": "Python 3.8.8 32-bit ('base': conda)",
      "language": "python",
      "name": "python3"
    },
    "language_info": {
      "codemirror_mode": {
        "name": "ipython",
        "version": 3
      },
      "file_extension": ".py",
      "mimetype": "text/x-python",
      "name": "python",
      "nbconvert_exporter": "python",
      "pygments_lexer": "ipython3",
      "version": "3.10.2"
    },
    "orig_nbformat": 4
  },
  "nbformat": 4,
  "nbformat_minor": 0
}
