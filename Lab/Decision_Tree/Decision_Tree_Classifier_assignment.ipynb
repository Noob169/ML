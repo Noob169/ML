{
  "nbformat": 4,
  "nbformat_minor": 0,
  "metadata": {
    "colab": {
      "name": "Decision_Tree_Classifier_assignment",
      "provenance": []
    },
    "kernelspec": {
      "name": "python3",
      "display_name": "Python 3"
    },
    "language_info": {
      "name": "python"
    }
  },
  "cells": [
    {
      "cell_type": "code",
      "execution_count": null,
      "metadata": {
        "colab": {
          "base_uri": "https://localhost:8080/"
        },
        "id": "fQaIutkdprwa",
        "outputId": "4c746157-c84c-4427-cd09-7396c0197725"
      },
      "outputs": [
        {
          "output_type": "stream",
          "name": "stdout",
          "text": [
            "Mounted at /content/drive/\n"
          ]
        }
      ],
      "source": [
        "from google.colab import drive\n",
        "drive.mount(\"/content/drive/\")"
      ]
    },
    {
      "cell_type": "markdown",
      "source": [
        "IMPORTING THE DATASET"
      ],
      "metadata": {
        "id": "e0PP4X2_vDNT"
      }
    },
    {
      "cell_type": "code",
      "source": [
        "import matplotlib.pyplot as plt\n",
        "import pandas as pd\n",
        "df=pd.read_csv(\"/content/drive/My Drive/DT_DataSet_v1.0.csv\")"
      ],
      "metadata": {
        "id": "f4emYOePqJwu"
      },
      "execution_count": null,
      "outputs": []
    },
    {
      "cell_type": "markdown",
      "source": [
        "DESCRIBING THE DATASET"
      ],
      "metadata": {
        "id": "vtINpMFfvFUi"
      }
    },
    {
      "cell_type": "code",
      "source": [
        "df.info()\n",
        "df.describe()\n"
      ],
      "metadata": {
        "colab": {
          "base_uri": "https://localhost:8080/",
          "height": 249
        },
        "id": "yoYmtu4zrDbA",
        "outputId": "8414b36f-7789-45c0-8c85-d5ec29bc2679"
      },
      "execution_count": null,
      "outputs": [
        {
          "output_type": "stream",
          "name": "stdout",
          "text": [
            "<class 'pandas.core.frame.DataFrame'>\n",
            "RangeIndex: 13 entries, 0 to 12\n",
            "Data columns (total 5 columns):\n",
            " #   Column      Non-Null Count  Dtype \n",
            "---  ------      --------------  ----- \n",
            " 0   Day         13 non-null     object\n",
            " 1   WakeUp      13 non-null     object\n",
            " 2   HaveTalk    13 non-null     object\n",
            " 3   Weather     13 non-null     object\n",
            " 4   GoToSchool  13 non-null     object\n",
            "dtypes: object(5)\n",
            "memory usage: 648.0+ bytes\n"
          ]
        },
        {
          "output_type": "execute_result",
          "data": {
            "text/plain": [
              "       Day  WakeUp HaveTalk Weather GoToSchool\n",
              "count   13      13       13      13         13\n",
              "unique  13       3        2       2          2\n",
              "top     D1  Normal      Yes   Sunny        Yes\n",
              "freq     1       5        7       8          9"
            ],
            "text/html": [
              "\n",
              "  <div id=\"df-f4c1319e-305b-4fa6-8aa0-38a831a1ebe2\">\n",
              "    <div class=\"colab-df-container\">\n",
              "      <div>\n",
              "<style scoped>\n",
              "    .dataframe tbody tr th:only-of-type {\n",
              "        vertical-align: middle;\n",
              "    }\n",
              "\n",
              "    .dataframe tbody tr th {\n",
              "        vertical-align: top;\n",
              "    }\n",
              "\n",
              "    .dataframe thead th {\n",
              "        text-align: right;\n",
              "    }\n",
              "</style>\n",
              "<table border=\"1\" class=\"dataframe\">\n",
              "  <thead>\n",
              "    <tr style=\"text-align: right;\">\n",
              "      <th></th>\n",
              "      <th>Day</th>\n",
              "      <th>WakeUp</th>\n",
              "      <th>HaveTalk</th>\n",
              "      <th>Weather</th>\n",
              "      <th>GoToSchool</th>\n",
              "    </tr>\n",
              "  </thead>\n",
              "  <tbody>\n",
              "    <tr>\n",
              "      <th>count</th>\n",
              "      <td>13</td>\n",
              "      <td>13</td>\n",
              "      <td>13</td>\n",
              "      <td>13</td>\n",
              "      <td>13</td>\n",
              "    </tr>\n",
              "    <tr>\n",
              "      <th>unique</th>\n",
              "      <td>13</td>\n",
              "      <td>3</td>\n",
              "      <td>2</td>\n",
              "      <td>2</td>\n",
              "      <td>2</td>\n",
              "    </tr>\n",
              "    <tr>\n",
              "      <th>top</th>\n",
              "      <td>D1</td>\n",
              "      <td>Normal</td>\n",
              "      <td>Yes</td>\n",
              "      <td>Sunny</td>\n",
              "      <td>Yes</td>\n",
              "    </tr>\n",
              "    <tr>\n",
              "      <th>freq</th>\n",
              "      <td>1</td>\n",
              "      <td>5</td>\n",
              "      <td>7</td>\n",
              "      <td>8</td>\n",
              "      <td>9</td>\n",
              "    </tr>\n",
              "  </tbody>\n",
              "</table>\n",
              "</div>\n",
              "      <button class=\"colab-df-convert\" onclick=\"convertToInteractive('df-f4c1319e-305b-4fa6-8aa0-38a831a1ebe2')\"\n",
              "              title=\"Convert this dataframe to an interactive table.\"\n",
              "              style=\"display:none;\">\n",
              "        \n",
              "  <svg xmlns=\"http://www.w3.org/2000/svg\" height=\"24px\"viewBox=\"0 0 24 24\"\n",
              "       width=\"24px\">\n",
              "    <path d=\"M0 0h24v24H0V0z\" fill=\"none\"/>\n",
              "    <path d=\"M18.56 5.44l.94 2.06.94-2.06 2.06-.94-2.06-.94-.94-2.06-.94 2.06-2.06.94zm-11 1L8.5 8.5l.94-2.06 2.06-.94-2.06-.94L8.5 2.5l-.94 2.06-2.06.94zm10 10l.94 2.06.94-2.06 2.06-.94-2.06-.94-.94-2.06-.94 2.06-2.06.94z\"/><path d=\"M17.41 7.96l-1.37-1.37c-.4-.4-.92-.59-1.43-.59-.52 0-1.04.2-1.43.59L10.3 9.45l-7.72 7.72c-.78.78-.78 2.05 0 2.83L4 21.41c.39.39.9.59 1.41.59.51 0 1.02-.2 1.41-.59l7.78-7.78 2.81-2.81c.8-.78.8-2.07 0-2.86zM5.41 20L4 18.59l7.72-7.72 1.47 1.35L5.41 20z\"/>\n",
              "  </svg>\n",
              "      </button>\n",
              "      \n",
              "  <style>\n",
              "    .colab-df-container {\n",
              "      display:flex;\n",
              "      flex-wrap:wrap;\n",
              "      gap: 12px;\n",
              "    }\n",
              "\n",
              "    .colab-df-convert {\n",
              "      background-color: #E8F0FE;\n",
              "      border: none;\n",
              "      border-radius: 50%;\n",
              "      cursor: pointer;\n",
              "      display: none;\n",
              "      fill: #1967D2;\n",
              "      height: 32px;\n",
              "      padding: 0 0 0 0;\n",
              "      width: 32px;\n",
              "    }\n",
              "\n",
              "    .colab-df-convert:hover {\n",
              "      background-color: #E2EBFA;\n",
              "      box-shadow: 0px 1px 2px rgba(60, 64, 67, 0.3), 0px 1px 3px 1px rgba(60, 64, 67, 0.15);\n",
              "      fill: #174EA6;\n",
              "    }\n",
              "\n",
              "    [theme=dark] .colab-df-convert {\n",
              "      background-color: #3B4455;\n",
              "      fill: #D2E3FC;\n",
              "    }\n",
              "\n",
              "    [theme=dark] .colab-df-convert:hover {\n",
              "      background-color: #434B5C;\n",
              "      box-shadow: 0px 1px 3px 1px rgba(0, 0, 0, 0.15);\n",
              "      filter: drop-shadow(0px 1px 2px rgba(0, 0, 0, 0.3));\n",
              "      fill: #FFFFFF;\n",
              "    }\n",
              "  </style>\n",
              "\n",
              "      <script>\n",
              "        const buttonEl =\n",
              "          document.querySelector('#df-f4c1319e-305b-4fa6-8aa0-38a831a1ebe2 button.colab-df-convert');\n",
              "        buttonEl.style.display =\n",
              "          google.colab.kernel.accessAllowed ? 'block' : 'none';\n",
              "\n",
              "        async function convertToInteractive(key) {\n",
              "          const element = document.querySelector('#df-f4c1319e-305b-4fa6-8aa0-38a831a1ebe2');\n",
              "          const dataTable =\n",
              "            await google.colab.kernel.invokeFunction('convertToInteractive',\n",
              "                                                     [key], {});\n",
              "          if (!dataTable) return;\n",
              "\n",
              "          const docLinkHtml = 'Like what you see? Visit the ' +\n",
              "            '<a target=\"_blank\" href=https://colab.research.google.com/notebooks/data_table.ipynb>data table notebook</a>'\n",
              "            + ' to learn more about interactive tables.';\n",
              "          element.innerHTML = '';\n",
              "          dataTable['output_type'] = 'display_data';\n",
              "          await google.colab.output.renderOutput(dataTable, element);\n",
              "          const docLink = document.createElement('div');\n",
              "          docLink.innerHTML = docLinkHtml;\n",
              "          element.appendChild(docLink);\n",
              "        }\n",
              "      </script>\n",
              "    </div>\n",
              "  </div>\n",
              "  "
            ]
          },
          "metadata": {},
          "execution_count": 9
        }
      ]
    },
    {
      "cell_type": "markdown",
      "source": [
        "PREPROCESSING THE DATA"
      ],
      "metadata": {
        "id": "Mltt4GxNvP2z"
      }
    },
    {
      "cell_type": "code",
      "source": [
        "from sklearn.preprocessing import LabelEncoder as le\n",
        "LE=le()\n",
        "e_df=df.apply(LE.fit_transform)\n",
        "print(e_df)"
      ],
      "metadata": {
        "colab": {
          "base_uri": "https://localhost:8080/"
        },
        "id": "OZ0fBy5mvVGe",
        "outputId": "9e5668bc-2048-4f79-8efe-9b441eadcfce"
      },
      "execution_count": null,
      "outputs": [
        {
          "output_type": "stream",
          "name": "stdout",
          "text": [
            "    Day  WakeUp  HaveTalk  Weather  GoToSchool\n",
            "0     0       2         0        1           0\n",
            "1     5       2         0        0           0\n",
            "2     6       0         0        1           1\n",
            "3     7       1         0        1           1\n",
            "4     8       1         1        1           1\n",
            "5     9       1         1        0           0\n",
            "6    10       0         1        0           1\n",
            "7    11       2         0        1           0\n",
            "8    12       2         1        1           1\n",
            "9     1       1         1        1           1\n",
            "10    2       2         1        0           1\n",
            "11    3       0         0        0           1\n",
            "12    4       0         1        1           1\n"
          ]
        }
      ]
    },
    {
      "cell_type": "markdown",
      "source": [
        "  SPLITTING THE DATA INTO TRAINING AND TESTING SETS"
      ],
      "metadata": {
        "id": "Cq_9i9wMvwn5"
      }
    },
    {
      "cell_type": "code",
      "source": [
        "from sklearn.model_selection import train_test_split as tts\n",
        "predictors=e_df.iloc[:,0:4]\n",
        "target=e_df.iloc[:,4]\n",
        "train_x,test_x,train_y,test_y=tts(predictors,target,test_size=0.1,random_state=100)\n",
        "print(train_x)\n",
        "print(train_y)"
      ],
      "metadata": {
        "colab": {
          "base_uri": "https://localhost:8080/"
        },
        "id": "yX42GSiFv1aY",
        "outputId": "478748c0-a963-4454-f8db-677103e06a91"
      },
      "execution_count": null,
      "outputs": [
        {
          "output_type": "stream",
          "name": "stdout",
          "text": [
            "    Day  WakeUp  HaveTalk  Weather\n",
            "1     5       2         0        0\n",
            "5     9       1         1        0\n",
            "4     8       1         1        1\n",
            "2     6       0         0        1\n",
            "0     0       2         0        1\n",
            "11    3       0         0        0\n",
            "9     1       1         1        1\n",
            "7    11       2         0        1\n",
            "3     7       1         0        1\n",
            "12    4       0         1        1\n",
            "8    12       2         1        1\n",
            "1     0\n",
            "5     0\n",
            "4     1\n",
            "2     1\n",
            "0     0\n",
            "11    1\n",
            "9     1\n",
            "7     0\n",
            "3     1\n",
            "12    1\n",
            "8     1\n",
            "Name: GoToSchool, dtype: int64\n"
          ]
        }
      ]
    },
    {
      "cell_type": "markdown",
      "source": [
        "FITTING THE DATA"
      ],
      "metadata": {
        "id": "EWTqh_PcwqQI"
      }
    },
    {
      "cell_type": "code",
      "source": [
        "from sklearn.tree import DecisionTreeClassifier as dtc\n",
        "dt_class=dtc(criterion=\"entropy\",random_state=100,max_depth=4,min_samples_leaf=1)\n",
        "dt_class.fit(train_x,train_y)\n",
        "print(\"Predictions:{}\".format(dt_class.predict(test_x)))"
      ],
      "metadata": {
        "colab": {
          "base_uri": "https://localhost:8080/"
        },
        "id": "ADG7UWwfwtSM",
        "outputId": "88a2f46b-6221-4488-ce2c-5013dd52439d"
      },
      "execution_count": null,
      "outputs": [
        {
          "output_type": "stream",
          "name": "stdout",
          "text": [
            "Predictions:[1 0]\n"
          ]
        }
      ]
    },
    {
      "cell_type": "markdown",
      "source": [
        "MODEL EVALUATION"
      ],
      "metadata": {
        "id": "a3fxn4h-xeqx"
      }
    },
    {
      "cell_type": "code",
      "source": [
        "from sklearn.metrics import accuracy_score as acs\n",
        "from sklearn.metrics import confusion_matrix as cx\n",
        "acc=dt_class.score(test_x,test_y)\n",
        "print(acc)\n",
        "cnf_m=cx(test_y,dt_class.predict(test_x))\n",
        "print(cnf_m)"
      ],
      "metadata": {
        "colab": {
          "base_uri": "https://localhost:8080/"
        },
        "id": "XPn7HcU4xgME",
        "outputId": "63d59e6a-390d-495f-a9b7-76a9771c3d14"
      },
      "execution_count": null,
      "outputs": [
        {
          "output_type": "stream",
          "name": "stdout",
          "text": [
            "0.5\n",
            "[[0 0]\n",
            " [1 1]]\n"
          ]
        }
      ]
    }
  ]
}