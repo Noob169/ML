{
 "cells": [
  {
   "cell_type": "code",
   "execution_count": 1,
   "id": "e768600b",
   "metadata": {},
   "outputs": [],
   "source": [
    "import pandas as pd\n",
    "import numpy as np"
   ]
  },
  {
   "cell_type": "code",
   "execution_count": 2,
   "id": "f074c514",
   "metadata": {},
   "outputs": [],
   "source": [
    "df=pd.read_csv(r\"FuelConsumptionCo2.csv\")"
   ]
  },
  {
   "cell_type": "code",
   "execution_count": 3,
   "id": "9e2fdb59",
   "metadata": {},
   "outputs": [
    {
     "name": "stdout",
     "output_type": "stream",
     "text": [
      "<class 'pandas.core.frame.DataFrame'>\n",
      "RangeIndex: 1067 entries, 0 to 1066\n",
      "Data columns (total 13 columns):\n",
      " #   Column                    Non-Null Count  Dtype  \n",
      "---  ------                    --------------  -----  \n",
      " 0   MODELYEAR                 1067 non-null   int64  \n",
      " 1   MAKE                      1067 non-null   object \n",
      " 2   MODEL                     1067 non-null   object \n",
      " 3   VEHICLECLASS              1067 non-null   object \n",
      " 4   ENGINESIZE                1067 non-null   float64\n",
      " 5   CYLINDERS                 1067 non-null   int64  \n",
      " 6   TRANSMISSION              1067 non-null   object \n",
      " 7   FUELTYPE                  1067 non-null   object \n",
      " 8   FUELCONSUMPTION_CITY      1067 non-null   float64\n",
      " 9   FUELCONSUMPTION_HWY       1067 non-null   float64\n",
      " 10  FUELCONSUMPTION_COMB      1067 non-null   float64\n",
      " 11  FUELCONSUMPTION_COMB_MPG  1067 non-null   int64  \n",
      " 12  CO2EMISSIONS              1067 non-null   int64  \n",
      "dtypes: float64(4), int64(4), object(5)\n",
      "memory usage: 108.5+ KB\n"
     ]
    }
   ],
   "source": [
    "df.info()"
   ]
  },
  {
   "cell_type": "code",
   "execution_count": 4,
   "id": "9f27ccab",
   "metadata": {},
   "outputs": [
    {
     "data": {
      "text/html": [
       "<div>\n",
       "<style scoped>\n",
       "    .dataframe tbody tr th:only-of-type {\n",
       "        vertical-align: middle;\n",
       "    }\n",
       "\n",
       "    .dataframe tbody tr th {\n",
       "        vertical-align: top;\n",
       "    }\n",
       "\n",
       "    .dataframe thead th {\n",
       "        text-align: right;\n",
       "    }\n",
       "</style>\n",
       "<table border=\"1\" class=\"dataframe\">\n",
       "  <thead>\n",
       "    <tr style=\"text-align: right;\">\n",
       "      <th></th>\n",
       "      <th>MODELYEAR</th>\n",
       "      <th>ENGINESIZE</th>\n",
       "      <th>CYLINDERS</th>\n",
       "      <th>FUELCONSUMPTION_CITY</th>\n",
       "      <th>FUELCONSUMPTION_HWY</th>\n",
       "      <th>FUELCONSUMPTION_COMB</th>\n",
       "      <th>FUELCONSUMPTION_COMB_MPG</th>\n",
       "      <th>CO2EMISSIONS</th>\n",
       "    </tr>\n",
       "  </thead>\n",
       "  <tbody>\n",
       "    <tr>\n",
       "      <th>count</th>\n",
       "      <td>1067.0</td>\n",
       "      <td>1067.000000</td>\n",
       "      <td>1067.000000</td>\n",
       "      <td>1067.000000</td>\n",
       "      <td>1067.000000</td>\n",
       "      <td>1067.000000</td>\n",
       "      <td>1067.000000</td>\n",
       "      <td>1067.000000</td>\n",
       "    </tr>\n",
       "    <tr>\n",
       "      <th>mean</th>\n",
       "      <td>2014.0</td>\n",
       "      <td>3.346298</td>\n",
       "      <td>5.794752</td>\n",
       "      <td>13.296532</td>\n",
       "      <td>9.474602</td>\n",
       "      <td>11.580881</td>\n",
       "      <td>26.441425</td>\n",
       "      <td>256.228679</td>\n",
       "    </tr>\n",
       "    <tr>\n",
       "      <th>std</th>\n",
       "      <td>0.0</td>\n",
       "      <td>1.415895</td>\n",
       "      <td>1.797447</td>\n",
       "      <td>4.101253</td>\n",
       "      <td>2.794510</td>\n",
       "      <td>3.485595</td>\n",
       "      <td>7.468702</td>\n",
       "      <td>63.372304</td>\n",
       "    </tr>\n",
       "    <tr>\n",
       "      <th>min</th>\n",
       "      <td>2014.0</td>\n",
       "      <td>1.000000</td>\n",
       "      <td>3.000000</td>\n",
       "      <td>4.600000</td>\n",
       "      <td>4.900000</td>\n",
       "      <td>4.700000</td>\n",
       "      <td>11.000000</td>\n",
       "      <td>108.000000</td>\n",
       "    </tr>\n",
       "    <tr>\n",
       "      <th>25%</th>\n",
       "      <td>2014.0</td>\n",
       "      <td>2.000000</td>\n",
       "      <td>4.000000</td>\n",
       "      <td>10.250000</td>\n",
       "      <td>7.500000</td>\n",
       "      <td>9.000000</td>\n",
       "      <td>21.000000</td>\n",
       "      <td>207.000000</td>\n",
       "    </tr>\n",
       "    <tr>\n",
       "      <th>50%</th>\n",
       "      <td>2014.0</td>\n",
       "      <td>3.400000</td>\n",
       "      <td>6.000000</td>\n",
       "      <td>12.600000</td>\n",
       "      <td>8.800000</td>\n",
       "      <td>10.900000</td>\n",
       "      <td>26.000000</td>\n",
       "      <td>251.000000</td>\n",
       "    </tr>\n",
       "    <tr>\n",
       "      <th>75%</th>\n",
       "      <td>2014.0</td>\n",
       "      <td>4.300000</td>\n",
       "      <td>8.000000</td>\n",
       "      <td>15.550000</td>\n",
       "      <td>10.850000</td>\n",
       "      <td>13.350000</td>\n",
       "      <td>31.000000</td>\n",
       "      <td>294.000000</td>\n",
       "    </tr>\n",
       "    <tr>\n",
       "      <th>max</th>\n",
       "      <td>2014.0</td>\n",
       "      <td>8.400000</td>\n",
       "      <td>12.000000</td>\n",
       "      <td>30.200000</td>\n",
       "      <td>20.500000</td>\n",
       "      <td>25.800000</td>\n",
       "      <td>60.000000</td>\n",
       "      <td>488.000000</td>\n",
       "    </tr>\n",
       "  </tbody>\n",
       "</table>\n",
       "</div>"
      ],
      "text/plain": [
       "       MODELYEAR   ENGINESIZE    CYLINDERS  FUELCONSUMPTION_CITY  \\\n",
       "count     1067.0  1067.000000  1067.000000           1067.000000   \n",
       "mean      2014.0     3.346298     5.794752             13.296532   \n",
       "std          0.0     1.415895     1.797447              4.101253   \n",
       "min       2014.0     1.000000     3.000000              4.600000   \n",
       "25%       2014.0     2.000000     4.000000             10.250000   \n",
       "50%       2014.0     3.400000     6.000000             12.600000   \n",
       "75%       2014.0     4.300000     8.000000             15.550000   \n",
       "max       2014.0     8.400000    12.000000             30.200000   \n",
       "\n",
       "       FUELCONSUMPTION_HWY  FUELCONSUMPTION_COMB  FUELCONSUMPTION_COMB_MPG  \\\n",
       "count          1067.000000           1067.000000               1067.000000   \n",
       "mean              9.474602             11.580881                 26.441425   \n",
       "std               2.794510              3.485595                  7.468702   \n",
       "min               4.900000              4.700000                 11.000000   \n",
       "25%               7.500000              9.000000                 21.000000   \n",
       "50%               8.800000             10.900000                 26.000000   \n",
       "75%              10.850000             13.350000                 31.000000   \n",
       "max              20.500000             25.800000                 60.000000   \n",
       "\n",
       "       CO2EMISSIONS  \n",
       "count   1067.000000  \n",
       "mean     256.228679  \n",
       "std       63.372304  \n",
       "min      108.000000  \n",
       "25%      207.000000  \n",
       "50%      251.000000  \n",
       "75%      294.000000  \n",
       "max      488.000000  "
      ]
     },
     "execution_count": 4,
     "metadata": {},
     "output_type": "execute_result"
    }
   ],
   "source": [
    "df.describe()"
   ]
  },
  {
   "cell_type": "code",
   "execution_count": 5,
   "id": "a20a7975",
   "metadata": {},
   "outputs": [
    {
     "data": {
      "text/plain": [
       "dtype('int64')"
      ]
     },
     "execution_count": 5,
     "metadata": {},
     "output_type": "execute_result"
    }
   ],
   "source": [
    "df['CO2EMISSIONS'].dtypes"
   ]
  },
  {
   "cell_type": "code",
   "execution_count": null,
   "id": "09f9eef5",
   "metadata": {},
   "outputs": [],
   "source": []
  },
  {
   "cell_type": "code",
   "execution_count": 6,
   "id": "2f421271",
   "metadata": {},
   "outputs": [
    {
     "data": {
      "text/plain": [
       "nan"
      ]
     },
     "execution_count": 6,
     "metadata": {},
     "output_type": "execute_result"
    }
   ],
   "source": [
    "#Checking correlation\n",
    "df[\"MODELYEAR\"].corr(df[\"CO2EMISSIONS\"])"
   ]
  },
  {
   "cell_type": "code",
   "execution_count": 7,
   "id": "617893cc",
   "metadata": {},
   "outputs": [
    {
     "data": {
      "text/plain": [
       "0.8741543683958121"
      ]
     },
     "execution_count": 7,
     "metadata": {},
     "output_type": "execute_result"
    }
   ],
   "source": [
    "df[\"ENGINESIZE\"].corr(df[\"CO2EMISSIONS\"])"
   ]
  },
  {
   "cell_type": "code",
   "execution_count": 8,
   "id": "573af3d5",
   "metadata": {},
   "outputs": [
    {
     "data": {
      "text/plain": [
       "0.8496845920141155"
      ]
     },
     "execution_count": 8,
     "metadata": {},
     "output_type": "execute_result"
    }
   ],
   "source": [
    "df[\"CYLINDERS\"].corr(df[\"CO2EMISSIONS\"])"
   ]
  },
  {
   "cell_type": "code",
   "execution_count": 9,
   "id": "03d87655",
   "metadata": {},
   "outputs": [
    {
     "data": {
      "text/plain": [
       "0.8921285933157568"
      ]
     },
     "execution_count": 9,
     "metadata": {},
     "output_type": "execute_result"
    }
   ],
   "source": [
    "df[\"FUELCONSUMPTION_COMB\"].corr(df[\"CO2EMISSIONS\"])"
   ]
  },
  {
   "cell_type": "code",
   "execution_count": 10,
   "id": "6aaf25d3",
   "metadata": {},
   "outputs": [],
   "source": [
    "#plot\n",
    "import matplotlib.pyplot as plt"
   ]
  },
  {
   "cell_type": "code",
   "execution_count": 11,
   "id": "6373b161",
   "metadata": {},
   "outputs": [
    {
     "data": {
      "text/plain": [
       "<AxesSubplot:>"
      ]
     },
     "execution_count": 11,
     "metadata": {},
     "output_type": "execute_result"
    },
    {
     "data": {
      "image/png": "[encoded data removed]",
      "text/plain": [
       "<Figure size 432x288 with 1 Axes>"
      ]
     },
     "metadata": {
      "needs_background": "light"
     },
     "output_type": "display_data"
    }
   ],
   "source": [
    "df[\"FUELCONSUMPTION_HWY\"].hist()"
   ]
  },
  {
   "cell_type": "code",
   "execution_count": 12,
   "id": "fb0a11a4",
   "metadata": {},
   "outputs": [
    {
     "data": {
      "text/plain": [
       "Text(0.5, 1.0, 'Relation between fuel consumption and co2 emissions')"
      ]
     },
     "execution_count": 12,
     "metadata": {},
     "output_type": "execute_result"
    },
    {
     "data": {
      "image/png": "[encoded data removed]",
      "text/plain": [
       "<Figure size 432x288 with 1 Axes>"
      ]
     },
     "metadata": {
      "needs_background": "light"
     },
     "output_type": "display_data"
    }
   ],
   "source": [
    "# plotting relation for df[\"FUELCONSUMPTION_COMB\"].corr(df[\"CO2EMISSIONS\"])\n",
    "plt.scatter(df[\"FUELCONSUMPTION_COMB\"],df[\"CO2EMISSIONS\"])\n",
    "plt.xlabel(\"FUELCONSUMPTION_COMB\")\n",
    "plt.ylabel(\"CO2EMISSIONS\")\n",
    "plt.title(\"Relation between fuel consumption and co2 emissions\")"
   ]
  },
  {
   "cell_type": "code",
   "execution_count": 13,
   "id": "80828a0b",
   "metadata": {},
   "outputs": [
    {
     "data": {
      "text/plain": [
       "Text(0.5, 1.0, 'Relation between fuel consumption and co2 emissions')"
      ]
     },
     "execution_count": 13,
     "metadata": {},
     "output_type": "execute_result"
    },
    {
     "data": {
      "image/png": "[encoded data removed]",
      "text/plain": [
       "<Figure size 432x288 with 1 Axes>"
      ]
     },
     "metadata": {
      "needs_background": "light"
     },
     "output_type": "display_data"
    }
   ],
   "source": [
    "#enginesize vs #co2emissions\n",
    "plt.scatter(df[\"ENGINESIZE\"],df[\"CO2EMISSIONS\"])\n",
    "plt.xlabel(\"ENGINESIZE\")\n",
    "plt.ylabel(\"CO2EMISSIONS\")\n",
    "plt.title(\"Relation between fuel consumption and co2 emissions\")"
   ]
  },
  {
   "cell_type": "code",
   "execution_count": 14,
   "id": "c808fba1",
   "metadata": {},
   "outputs": [
    {
     "data": {
      "text/plain": [
       "<AxesSubplot:xlabel='ENGINESIZE', ylabel='CO2EMISSIONS'>"
      ]
     },
     "execution_count": 14,
     "metadata": {},
     "output_type": "execute_result"
    },
    {
     "data": {
      "image/png": "[encoded data removed]",
      "text/plain": [
       "<Figure size 432x288 with 1 Axes>"
      ]
     },
     "metadata": {
      "needs_background": "light"
     },
     "output_type": "display_data"
    }
   ],
   "source": [
    "#Using seaborn\n",
    "import seaborn as sns\n",
    "sns.scatterplot(x=df.ENGINESIZE,y=df.CO2EMISSIONS)"
   ]
  },
  {
   "cell_type": "code",
   "execution_count": 15,
   "id": "ec5bdd49",
   "metadata": {},
   "outputs": [],
   "source": [
    "df2=df[[\"ENGINESIZE\",\"CYLINDERS\",\"FUELCONSUMPTION_HWY\",\"FUELCONSUMPTION_COMB\",\"CO2EMISSIONS\"]]"
   ]
  },
  {
   "cell_type": "code",
   "execution_count": 16,
   "id": "0f4f3248",
   "metadata": {},
   "outputs": [
    {
     "data": {
      "text/html": [
       "<div>\n",
       "<style scoped>\n",
       "    .dataframe tbody tr th:only-of-type {\n",
       "        vertical-align: middle;\n",
       "    }\n",
       "\n",
       "    .dataframe tbody tr th {\n",
       "        vertical-align: top;\n",
       "    }\n",
       "\n",
       "    .dataframe thead th {\n",
       "        text-align: right;\n",
       "    }\n",
       "</style>\n",
       "<table border=\"1\" class=\"dataframe\">\n",
       "  <thead>\n",
       "    <tr style=\"text-align: right;\">\n",
       "      <th></th>\n",
       "      <th>ENGINESIZE</th>\n",
       "      <th>CYLINDERS</th>\n",
       "      <th>FUELCONSUMPTION_HWY</th>\n",
       "      <th>FUELCONSUMPTION_COMB</th>\n",
       "      <th>CO2EMISSIONS</th>\n",
       "    </tr>\n",
       "  </thead>\n",
       "  <tbody>\n",
       "    <tr>\n",
       "      <th>0</th>\n",
       "      <td>2.0</td>\n",
       "      <td>4</td>\n",
       "      <td>6.7</td>\n",
       "      <td>8.5</td>\n",
       "      <td>196</td>\n",
       "    </tr>\n",
       "    <tr>\n",
       "      <th>1</th>\n",
       "      <td>2.4</td>\n",
       "      <td>4</td>\n",
       "      <td>7.7</td>\n",
       "      <td>9.6</td>\n",
       "      <td>221</td>\n",
       "    </tr>\n",
       "    <tr>\n",
       "      <th>2</th>\n",
       "      <td>1.5</td>\n",
       "      <td>4</td>\n",
       "      <td>5.8</td>\n",
       "      <td>5.9</td>\n",
       "      <td>136</td>\n",
       "    </tr>\n",
       "    <tr>\n",
       "      <th>3</th>\n",
       "      <td>3.5</td>\n",
       "      <td>6</td>\n",
       "      <td>9.1</td>\n",
       "      <td>11.1</td>\n",
       "      <td>255</td>\n",
       "    </tr>\n",
       "    <tr>\n",
       "      <th>4</th>\n",
       "      <td>3.5</td>\n",
       "      <td>6</td>\n",
       "      <td>8.7</td>\n",
       "      <td>10.6</td>\n",
       "      <td>244</td>\n",
       "    </tr>\n",
       "  </tbody>\n",
       "</table>\n",
       "</div>"
      ],
      "text/plain": [
       "   ENGINESIZE  CYLINDERS  FUELCONSUMPTION_HWY  FUELCONSUMPTION_COMB  \\\n",
       "0         2.0          4                  6.7                   8.5   \n",
       "1         2.4          4                  7.7                   9.6   \n",
       "2         1.5          4                  5.8                   5.9   \n",
       "3         3.5          6                  9.1                  11.1   \n",
       "4         3.5          6                  8.7                  10.6   \n",
       "\n",
       "   CO2EMISSIONS  \n",
       "0           196  \n",
       "1           221  \n",
       "2           136  \n",
       "3           255  \n",
       "4           244  "
      ]
     },
     "execution_count": 16,
     "metadata": {},
     "output_type": "execute_result"
    }
   ],
   "source": [
    "df2.head()"
   ]
  },
  {
   "cell_type": "code",
   "execution_count": 17,
   "id": "d19e1ce7",
   "metadata": {},
   "outputs": [
    {
     "name": "stdout",
     "output_type": "stream",
     "text": [
      "<class 'pandas.core.frame.DataFrame'>\n",
      "RangeIndex: 1067 entries, 0 to 1066\n",
      "Data columns (total 5 columns):\n",
      " #   Column                Non-Null Count  Dtype  \n",
      "---  ------                --------------  -----  \n",
      " 0   ENGINESIZE            1067 non-null   float64\n",
      " 1   CYLINDERS             1067 non-null   int64  \n",
      " 2   FUELCONSUMPTION_HWY   1067 non-null   float64\n",
      " 3   FUELCONSUMPTION_COMB  1067 non-null   float64\n",
      " 4   CO2EMISSIONS          1067 non-null   int64  \n",
      "dtypes: float64(3), int64(2)\n",
      "memory usage: 41.8 KB\n"
     ]
    }
   ],
   "source": [
    "df2.info()"
   ]
  },
  {
   "cell_type": "code",
   "execution_count": 18,
   "id": "0acb1653",
   "metadata": {},
   "outputs": [
    {
     "data": {
      "text/plain": [
       "array([[<AxesSubplot:title={'center':'ENGINESIZE'}>,\n",
       "        <AxesSubplot:title={'center':'CYLINDERS'}>],\n",
       "       [<AxesSubplot:title={'center':'FUELCONSUMPTION_HWY'}>,\n",
       "        <AxesSubplot:title={'center':'FUELCONSUMPTION_COMB'}>],\n",
       "       [<AxesSubplot:title={'center':'CO2EMISSIONS'}>, <AxesSubplot:>]],\n",
       "      dtype=object)"
      ]
     },
     "execution_count": 18,
     "metadata": {},
     "output_type": "execute_result"
    },
    {
     "data": {
      "image/png": "[encoded data removed]",
      "text/plain": [
       "<Figure size 432x288 with 6 Axes>"
      ]
     },
     "metadata": {
      "needs_background": "light"
     },
     "output_type": "display_data"
    }
   ],
   "source": [
    "df2.hist()"
   ]
  },
  {
   "cell_type": "code",
   "execution_count": 19,
   "id": "a7178e3b",
   "metadata": {},
   "outputs": [],
   "source": [
    "#Split into training and testing data"
   ]
  },
  {
   "cell_type": "code",
   "execution_count": 20,
   "id": "afc128a3",
   "metadata": {},
   "outputs": [],
   "source": [
    "msk=np.random.rand(len(df2))<0.8\n",
    "#randomizes the data and stores 80% of the entire data frame"
   ]
  },
  {
   "cell_type": "code",
   "execution_count": 21,
   "id": "b769a76c",
   "metadata": {},
   "outputs": [],
   "source": [
    "train_df=df2[msk]\n",
    "test_df=df2[~msk]"
   ]
  },
  {
   "cell_type": "code",
   "execution_count": 22,
   "id": "ce0de287",
   "metadata": {
    "scrolled": true
   },
   "outputs": [
    {
     "data": {
      "text/html": [
       "<div>\n",
       "<style scoped>\n",
       "    .dataframe tbody tr th:only-of-type {\n",
       "        vertical-align: middle;\n",
       "    }\n",
       "\n",
       "    .dataframe tbody tr th {\n",
       "        vertical-align: top;\n",
       "    }\n",
       "\n",
       "    .dataframe thead th {\n",
       "        text-align: right;\n",
       "    }\n",
       "</style>\n",
       "<table border=\"1\" class=\"dataframe\">\n",
       "  <thead>\n",
       "    <tr style=\"text-align: right;\">\n",
       "      <th></th>\n",
       "      <th>ENGINESIZE</th>\n",
       "      <th>CYLINDERS</th>\n",
       "      <th>FUELCONSUMPTION_HWY</th>\n",
       "      <th>FUELCONSUMPTION_COMB</th>\n",
       "      <th>CO2EMISSIONS</th>\n",
       "    </tr>\n",
       "  </thead>\n",
       "  <tbody>\n",
       "    <tr>\n",
       "      <th>0</th>\n",
       "      <td>2.0</td>\n",
       "      <td>4</td>\n",
       "      <td>6.7</td>\n",
       "      <td>8.5</td>\n",
       "      <td>196</td>\n",
       "    </tr>\n",
       "    <tr>\n",
       "      <th>1</th>\n",
       "      <td>2.4</td>\n",
       "      <td>4</td>\n",
       "      <td>7.7</td>\n",
       "      <td>9.6</td>\n",
       "      <td>221</td>\n",
       "    </tr>\n",
       "    <tr>\n",
       "      <th>3</th>\n",
       "      <td>3.5</td>\n",
       "      <td>6</td>\n",
       "      <td>9.1</td>\n",
       "      <td>11.1</td>\n",
       "      <td>255</td>\n",
       "    </tr>\n",
       "    <tr>\n",
       "      <th>4</th>\n",
       "      <td>3.5</td>\n",
       "      <td>6</td>\n",
       "      <td>8.7</td>\n",
       "      <td>10.6</td>\n",
       "      <td>244</td>\n",
       "    </tr>\n",
       "    <tr>\n",
       "      <th>5</th>\n",
       "      <td>3.5</td>\n",
       "      <td>6</td>\n",
       "      <td>7.7</td>\n",
       "      <td>10.0</td>\n",
       "      <td>230</td>\n",
       "    </tr>\n",
       "    <tr>\n",
       "      <th>...</th>\n",
       "      <td>...</td>\n",
       "      <td>...</td>\n",
       "      <td>...</td>\n",
       "      <td>...</td>\n",
       "      <td>...</td>\n",
       "    </tr>\n",
       "    <tr>\n",
       "      <th>1061</th>\n",
       "      <td>3.2</td>\n",
       "      <td>6</td>\n",
       "      <td>8.9</td>\n",
       "      <td>11.2</td>\n",
       "      <td>258</td>\n",
       "    </tr>\n",
       "    <tr>\n",
       "      <th>1062</th>\n",
       "      <td>3.0</td>\n",
       "      <td>6</td>\n",
       "      <td>9.8</td>\n",
       "      <td>11.8</td>\n",
       "      <td>271</td>\n",
       "    </tr>\n",
       "    <tr>\n",
       "      <th>1063</th>\n",
       "      <td>3.2</td>\n",
       "      <td>6</td>\n",
       "      <td>9.5</td>\n",
       "      <td>11.5</td>\n",
       "      <td>264</td>\n",
       "    </tr>\n",
       "    <tr>\n",
       "      <th>1064</th>\n",
       "      <td>3.0</td>\n",
       "      <td>6</td>\n",
       "      <td>9.8</td>\n",
       "      <td>11.8</td>\n",
       "      <td>271</td>\n",
       "    </tr>\n",
       "    <tr>\n",
       "      <th>1065</th>\n",
       "      <td>3.2</td>\n",
       "      <td>6</td>\n",
       "      <td>9.3</td>\n",
       "      <td>11.3</td>\n",
       "      <td>260</td>\n",
       "    </tr>\n",
       "  </tbody>\n",
       "</table>\n",
       "<p>854 rows × 5 columns</p>\n",
       "</div>"
      ],
      "text/plain": [
       "      ENGINESIZE  CYLINDERS  FUELCONSUMPTION_HWY  FUELCONSUMPTION_COMB  \\\n",
       "0            2.0          4                  6.7                   8.5   \n",
       "1            2.4          4                  7.7                   9.6   \n",
       "3            3.5          6                  9.1                  11.1   \n",
       "4            3.5          6                  8.7                  10.6   \n",
       "5            3.5          6                  7.7                  10.0   \n",
       "...          ...        ...                  ...                   ...   \n",
       "1061         3.2          6                  8.9                  11.2   \n",
       "1062         3.0          6                  9.8                  11.8   \n",
       "1063         3.2          6                  9.5                  11.5   \n",
       "1064         3.0          6                  9.8                  11.8   \n",
       "1065         3.2          6                  9.3                  11.3   \n",
       "\n",
       "      CO2EMISSIONS  \n",
       "0              196  \n",
       "1              221  \n",
       "3              255  \n",
       "4              244  \n",
       "5              230  \n",
       "...            ...  \n",
       "1061           258  \n",
       "1062           271  \n",
       "1063           264  \n",
       "1064           271  \n",
       "1065           260  \n",
       "\n",
       "[854 rows x 5 columns]"
      ]
     },
     "execution_count": 22,
     "metadata": {},
     "output_type": "execute_result"
    }
   ],
   "source": [
    "train_df"
   ]
  },
  {
   "cell_type": "code",
   "execution_count": 23,
   "id": "79f4c85e",
   "metadata": {},
   "outputs": [
    {
     "data": {
      "text/plain": [
       "(213, 5)"
      ]
     },
     "execution_count": 23,
     "metadata": {},
     "output_type": "execute_result"
    }
   ],
   "source": [
    "test_df.shape"
   ]
  },
  {
   "cell_type": "code",
   "execution_count": 24,
   "id": "c62f3b1e",
   "metadata": {},
   "outputs": [],
   "source": [
    "#Converting training and testing data to numpy array\n",
    "\n",
    "#Starting with only one col- S I M P L E   R E G R E S S I O N\n",
    "x_train_df= train_df[[\"ENGINESIZE\"]]\n",
    "y_train_df= train_df[[\"CO2EMISSIONS\"]]\n",
    "x_test_df= test_df[[\"ENGINESIZE\"]]\n",
    "y_test_df= test_df[[\"CO2EMISSIONS\"]]\n",
    "#Converting to numpy array\n",
    "x_train_df= np.asarray(x_train_df)\n",
    "y_train_df= np.asarray(y_train_df)\n",
    "x_test_df= np.asarray(x_test_df)\n",
    "y_test_df= np.asarray(y_test_df)"
   ]
  },
  {
   "cell_type": "code",
   "execution_count": 25,
   "id": "ed1eca1e",
   "metadata": {},
   "outputs": [
    {
     "data": {
      "text/plain": [
       "array([[2. ],\n",
       "       [2.4],\n",
       "       [3.5],\n",
       "       [3.5],\n",
       "       [3.5],\n",
       "       [3.7],\n",
       "       [3.7],\n",
       "       [2.4],\n",
       "       [3.5],\n",
       "       [5.9],\n",
       "       [4.7],\n",
       "       [4.7],\n",
       "       [4.7],\n",
       "       [5.9],\n",
       "       [2. ],\n",
       "       [2. ],\n",
       "       [2. ],\n",
       "       [3. ],\n",
       "       [3. ],\n",
       "       [3. ],\n",
       "       [4. ],\n",
       "       [3. ],\n",
       "       [4. ],\n",
       "       [6.3],\n",
       "       [3. ],\n",
       "       [2. ],\n",
       "       [3. ],\n",
       "       [2. ],\n",
       "       [3. ],\n",
       "       [3. ],\n",
       "       [3. ],\n",
       "       [5.2],\n",
       "       [5.2],\n",
       "       [4.2],\n",
       "       [4.2],\n",
       "       [5.2],\n",
       "       [5.2],\n",
       "       [4.2],\n",
       "       [4.2],\n",
       "       [4. ],\n",
       "       [3. ],\n",
       "       [3. ],\n",
       "       [3. ],\n",
       "       [3. ],\n",
       "       [3. ],\n",
       "       [3. ],\n",
       "       [2. ],\n",
       "       [2. ],\n",
       "       [2. ],\n",
       "       [4. ],\n",
       "       [6. ],\n",
       "       [4. ],\n",
       "       [6. ],\n",
       "       [4. ],\n",
       "       [6. ],\n",
       "       [6.8],\n",
       "       [2. ],\n",
       "       [2. ],\n",
       "       [2. ],\n",
       "       [2. ],\n",
       "       [2. ],\n",
       "       [2. ],\n",
       "       [2. ],\n",
       "       [2. ],\n",
       "       [2. ],\n",
       "       [2. ],\n",
       "       [3. ],\n",
       "       [3. ],\n",
       "       [3. ],\n",
       "       [3. ],\n",
       "       [2. ],\n",
       "       [3. ],\n",
       "       [3. ],\n",
       "       [3. ],\n",
       "       [3. ],\n",
       "       [2. ],\n",
       "       [2. ],\n",
       "       [3. ],\n",
       "       [3. ],\n",
       "       [3. ],\n",
       "       [4.4],\n",
       "       [3. ],\n",
       "       [4.4],\n",
       "       [4.4],\n",
       "       [4.4],\n",
       "       [3. ],\n",
       "       [4.4],\n",
       "       [4.4],\n",
       "       [3. ],\n",
       "       [3. ],\n",
       "       [3. ],\n",
       "       [4.4],\n",
       "       [4.4],\n",
       "       [4.4],\n",
       "       [4.4],\n",
       "       [4.4],\n",
       "       [4.4],\n",
       "       [2. ],\n",
       "       [2. ],\n",
       "       [3. ],\n",
       "       [3. ],\n",
       "       [4.4],\n",
       "       [4.4],\n",
       "       [3. ],\n",
       "       [4.4],\n",
       "       [2. ],\n",
       "       [3. ],\n",
       "       [3. ],\n",
       "       [3. ],\n",
       "       [3.6],\n",
       "       [1.4],\n",
       "       [1.4],\n",
       "       [3.6],\n",
       "       [3.6],\n",
       "       [3.6],\n",
       "       [2.4],\n",
       "       [2. ],\n",
       "       [2. ],\n",
       "       [2.4],\n",
       "       [2. ],\n",
       "       [2. ],\n",
       "       [3.6],\n",
       "       [3.6],\n",
       "       [2. ],\n",
       "       [2. ],\n",
       "       [3.6],\n",
       "       [3. ],\n",
       "       [3.6],\n",
       "       [3. ],\n",
       "       [3.6],\n",
       "       [6.2],\n",
       "       [6.2],\n",
       "       [6.2],\n",
       "       [6.2],\n",
       "       [6.2],\n",
       "       [6.2],\n",
       "       [6.2],\n",
       "       [6.2],\n",
       "       [3.6],\n",
       "       [3.6],\n",
       "       [3.6],\n",
       "       [3.6],\n",
       "       [3.6],\n",
       "       [3.6],\n",
       "       [3.6],\n",
       "       [6.2],\n",
       "       [6.2],\n",
       "       [6.2],\n",
       "       [6.2],\n",
       "       [6.2],\n",
       "       [6.2],\n",
       "       [1.4],\n",
       "       [1.4],\n",
       "       [1.8],\n",
       "       [1.8],\n",
       "       [2. ],\n",
       "       [1.4],\n",
       "       [1.4],\n",
       "       [3.6],\n",
       "       [3.6],\n",
       "       [2.4],\n",
       "       [3.6],\n",
       "       [3.6],\n",
       "       [4.3],\n",
       "       [5.3],\n",
       "       [5.3],\n",
       "       [5.3],\n",
       "       [5.3],\n",
       "       [5.3],\n",
       "       [5.3],\n",
       "       [5.3],\n",
       "       [5.3],\n",
       "       [5.3],\n",
       "       [5.3],\n",
       "       [5.3],\n",
       "       [5.3],\n",
       "       [4.8],\n",
       "       [6. ],\n",
       "       [6. ],\n",
       "       [4.8],\n",
       "       [6. ],\n",
       "       [6. ],\n",
       "       [2.5],\n",
       "       [3.6],\n",
       "       [3.6],\n",
       "       [2.4],\n",
       "       [2. ],\n",
       "       [2.5],\n",
       "       [2.4],\n",
       "       [4.3],\n",
       "       [4.3],\n",
       "       [5.3],\n",
       "       [5.3],\n",
       "       [6.2],\n",
       "       [4.3],\n",
       "       [4.3],\n",
       "       [5.3],\n",
       "       [6.2],\n",
       "       [1.4],\n",
       "       [1.8],\n",
       "       [1.4],\n",
       "       [1.4],\n",
       "       [1.8],\n",
       "       [1.8],\n",
       "       [1.4],\n",
       "       [1.4],\n",
       "       [1.4],\n",
       "       [1.4],\n",
       "       [1.2],\n",
       "       [1.2],\n",
       "       [5.3],\n",
       "       [5.3],\n",
       "       [5.3],\n",
       "       [5.3],\n",
       "       [5.3],\n",
       "       [5.3],\n",
       "       [5.3],\n",
       "       [3.6],\n",
       "       [3.6],\n",
       "       [1.4],\n",
       "       [1.4],\n",
       "       [1.4],\n",
       "       [3.6],\n",
       "       [2.4],\n",
       "       [3.6],\n",
       "       [3.6],\n",
       "       [2.4],\n",
       "       [3.6],\n",
       "       [3.6],\n",
       "       [3.6],\n",
       "       [3.6],\n",
       "       [3.6],\n",
       "       [3.6],\n",
       "       [6.4],\n",
       "       [3.6],\n",
       "       [3.6],\n",
       "       [3.6],\n",
       "       [3.6],\n",
       "       [3.6],\n",
       "       [5.7],\n",
       "       [5.7],\n",
       "       [6.4],\n",
       "       [6.4],\n",
       "       [3.6],\n",
       "       [5.7],\n",
       "       [3.6],\n",
       "       [5.7],\n",
       "       [3.6],\n",
       "       [3.6],\n",
       "       [3.6],\n",
       "       [3.6],\n",
       "       [6.4],\n",
       "       [2. ],\n",
       "       [2.4],\n",
       "       [2.4],\n",
       "       [2. ],\n",
       "       [2.4],\n",
       "       [1.4],\n",
       "       [1.4],\n",
       "       [5.7],\n",
       "       [3.6],\n",
       "       [3.6],\n",
       "       [3.6],\n",
       "       [2.4],\n",
       "       [3.6],\n",
       "       [3.6],\n",
       "       [3.6],\n",
       "       [1.4],\n",
       "       [1.4],\n",
       "       [1.4],\n",
       "       [1.4],\n",
       "       [1.4],\n",
       "       [1.4],\n",
       "       [1.4],\n",
       "       [2. ],\n",
       "       [4.6],\n",
       "       [5.4],\n",
       "       [4.6],\n",
       "       [4.6],\n",
       "       [6.8],\n",
       "       [5.4],\n",
       "       [5.4],\n",
       "       [2. ],\n",
       "       [3.5],\n",
       "       [3.5],\n",
       "       [3.7],\n",
       "       [2. ],\n",
       "       [2.5],\n",
       "       [1.6],\n",
       "       [2. ],\n",
       "       [5.4],\n",
       "       [5.4],\n",
       "       [2. ],\n",
       "       [3.5],\n",
       "       [3.5],\n",
       "       [3.5],\n",
       "       [3.5],\n",
       "       [3.5],\n",
       "       [3.5],\n",
       "       [3.5],\n",
       "       [6.2],\n",
       "       [3.5],\n",
       "       [6.2],\n",
       "       [3.7],\n",
       "       [3.7],\n",
       "       [3.7],\n",
       "       [5. ],\n",
       "       [5. ],\n",
       "       [5. ],\n",
       "       [5. ],\n",
       "       [3.7],\n",
       "       [3.7],\n",
       "       [5. ],\n",
       "       [5. ],\n",
       "       [5. ],\n",
       "       [5. ],\n",
       "       [6.2],\n",
       "       [1.6],\n",
       "       [1. ],\n",
       "       [1.6],\n",
       "       [1.6],\n",
       "       [3.5],\n",
       "       [3.5],\n",
       "       [3.5],\n",
       "       [2. ],\n",
       "       [2. ],\n",
       "       [2. ],\n",
       "       [2. ],\n",
       "       [2. ],\n",
       "       [2. ],\n",
       "       [2. ],\n",
       "       [2. ],\n",
       "       [2. ],\n",
       "       [1.5],\n",
       "       [1.6],\n",
       "       [2. ],\n",
       "       [2.5],\n",
       "       [1.5],\n",
       "       [2. ],\n",
       "       [3.7],\n",
       "       [3.7],\n",
       "       [5. ],\n",
       "       [5. ],\n",
       "       [3.7],\n",
       "       [2. ],\n",
       "       [3.5],\n",
       "       [3.5],\n",
       "       [3.5],\n",
       "       [1.6],\n",
       "       [2.5],\n",
       "       [1.6],\n",
       "       [2.5],\n",
       "       [3.6],\n",
       "       [3.6],\n",
       "       [5.3],\n",
       "       [5.3],\n",
       "       [5.3],\n",
       "       [5.3],\n",
       "       [5.3],\n",
       "       [5.3],\n",
       "       [5.3],\n",
       "       [5.3],\n",
       "       [5.3],\n",
       "       [5.3],\n",
       "       [5.3],\n",
       "       [4.8],\n",
       "       [6. ],\n",
       "       [6. ],\n",
       "       [4.8],\n",
       "       [6. ],\n",
       "       [6. ],\n",
       "       [4.3],\n",
       "       [4.3],\n",
       "       [5.3],\n",
       "       [5.3],\n",
       "       [4.3],\n",
       "       [4.3],\n",
       "       [5.3],\n",
       "       [6.2],\n",
       "       [3.6],\n",
       "       [3.6],\n",
       "       [2.4],\n",
       "       [3.6],\n",
       "       [5.3],\n",
       "       [5.3],\n",
       "       [5.3],\n",
       "       [6.2],\n",
       "       [6.2],\n",
       "       [6.2],\n",
       "       [5.3],\n",
       "       [5.3],\n",
       "       [5.3],\n",
       "       [5.3],\n",
       "       [2.4],\n",
       "       [2.4],\n",
       "       [2.4],\n",
       "       [3.5],\n",
       "       [3.5],\n",
       "       [2. ],\n",
       "       [1.8],\n",
       "       [1.8],\n",
       "       [3.5],\n",
       "       [2.4],\n",
       "       [2.4],\n",
       "       [1.5],\n",
       "       [1.5],\n",
       "       [1.5],\n",
       "       [3.5],\n",
       "       [3.5],\n",
       "       [3.5],\n",
       "       [3.5],\n",
       "       [1.6],\n",
       "       [2. ],\n",
       "       [2. ],\n",
       "       [5. ],\n",
       "       [3.8],\n",
       "       [3.3],\n",
       "       [3.3],\n",
       "       [2.4],\n",
       "       [2. ],\n",
       "       [2.4],\n",
       "       [2.4],\n",
       "       [2.4],\n",
       "       [2.4],\n",
       "       [2. ],\n",
       "       [2. ],\n",
       "       [2.4],\n",
       "       [2. ],\n",
       "       [2.4],\n",
       "       [1.6],\n",
       "       [1.6],\n",
       "       [3.7],\n",
       "       [3.7],\n",
       "       [3.5],\n",
       "       [3.7],\n",
       "       [3.7],\n",
       "       [3.7],\n",
       "       [3.7],\n",
       "       [5.6],\n",
       "       [3.5],\n",
       "       [3.7],\n",
       "       [3.5],\n",
       "       [2.5],\n",
       "       [3.7],\n",
       "       [5. ],\n",
       "       [5.6],\n",
       "       [3. ],\n",
       "       [3. ],\n",
       "       [5. ],\n",
       "       [2. ],\n",
       "       [3. ],\n",
       "       [5. ],\n",
       "       [5. ],\n",
       "       [3. ],\n",
       "       [5. ],\n",
       "       [5. ],\n",
       "       [3. ],\n",
       "       [5. ],\n",
       "       [5. ],\n",
       "       [5. ],\n",
       "       [5. ],\n",
       "       [5. ],\n",
       "       [5. ],\n",
       "       [5. ],\n",
       "       [2.4],\n",
       "       [3.2],\n",
       "       [2.4],\n",
       "       [2.4],\n",
       "       [3.2],\n",
       "       [2.4],\n",
       "       [3.2],\n",
       "       [2. ],\n",
       "       [2. ],\n",
       "       [2.4],\n",
       "       [2.4],\n",
       "       [2.4],\n",
       "       [2.4],\n",
       "       [3.6],\n",
       "       [3.6],\n",
       "       [6.4],\n",
       "       [2. ],\n",
       "       [2.4],\n",
       "       [2.4],\n",
       "       [3.6],\n",
       "       [3.6],\n",
       "       [3.6],\n",
       "       [3.3],\n",
       "       [1.8],\n",
       "       [2. ],\n",
       "       [2. ],\n",
       "       [1.6],\n",
       "       [1.6],\n",
       "       [1.6],\n",
       "       [2. ],\n",
       "       [2. ],\n",
       "       [2. ],\n",
       "       [2.4],\n",
       "       [1.6],\n",
       "       [1.6],\n",
       "       [1.6],\n",
       "       [2. ],\n",
       "       [2. ],\n",
       "       [2.4],\n",
       "       [3.3],\n",
       "       [2.4],\n",
       "       [3.3],\n",
       "       [1.6],\n",
       "       [1.6],\n",
       "       [2. ],\n",
       "       [2.4],\n",
       "       [2.4],\n",
       "       [2. ],\n",
       "       [6.5],\n",
       "       [5.2],\n",
       "       [5.2],\n",
       "       [2. ],\n",
       "       [3. ],\n",
       "       [2. ],\n",
       "       [5. ],\n",
       "       [5. ],\n",
       "       [5. ],\n",
       "       [3. ],\n",
       "       [3. ],\n",
       "       [3. ],\n",
       "       [5. ],\n",
       "       [5. ],\n",
       "       [3. ],\n",
       "       [3. ],\n",
       "       [5. ],\n",
       "       [5. ],\n",
       "       [2.5],\n",
       "       [3.5],\n",
       "       [3.5],\n",
       "       [3.5],\n",
       "       [3.5],\n",
       "       [4.6],\n",
       "       [2.5],\n",
       "       [2.5],\n",
       "       [2.5],\n",
       "       [3.5],\n",
       "       [3.5],\n",
       "       [3.5],\n",
       "       [5. ],\n",
       "       [4.6],\n",
       "       [5. ],\n",
       "       [5.7],\n",
       "       [3.5],\n",
       "       [3.5],\n",
       "       [3.5],\n",
       "       [3.7],\n",
       "       [3.5],\n",
       "       [2. ],\n",
       "       [3.7],\n",
       "       [3.7],\n",
       "       [2. ],\n",
       "       [3.7],\n",
       "       [2. ],\n",
       "       [5.4],\n",
       "       [5.4],\n",
       "       [3. ],\n",
       "       [3. ],\n",
       "       [4.7],\n",
       "       [3.8],\n",
       "       [3. ],\n",
       "       [2.5],\n",
       "       [2. ],\n",
       "       [2.5],\n",
       "       [3.7],\n",
       "       [3.7],\n",
       "       [1.5],\n",
       "       [2.5],\n",
       "       [2.5],\n",
       "       [2. ],\n",
       "       [2. ],\n",
       "       [2.5],\n",
       "       [2. ],\n",
       "       [2.5],\n",
       "       [2.5],\n",
       "       [2.5],\n",
       "       [2.5],\n",
       "       [2.5],\n",
       "       [2. ],\n",
       "       [2. ],\n",
       "       [2. ],\n",
       "       [1.8],\n",
       "       [1.8],\n",
       "       [3.5],\n",
       "       [3.5],\n",
       "       [3.5],\n",
       "       [3.5],\n",
       "       [3.5],\n",
       "       [6.2],\n",
       "       [6.2],\n",
       "       [4.7],\n",
       "       [5.5],\n",
       "       [2. ],\n",
       "       [5.5],\n",
       "       [5.5],\n",
       "       [2.1],\n",
       "       [3.5],\n",
       "       [3.5],\n",
       "       [3.5],\n",
       "       [3.5],\n",
       "       [3.5],\n",
       "       [3.5],\n",
       "       [4.7],\n",
       "       [4.7],\n",
       "       [5.5],\n",
       "       [5.5],\n",
       "       [5.5],\n",
       "       [5.5],\n",
       "       [5.5],\n",
       "       [5.5],\n",
       "       [4.7],\n",
       "       [4.7],\n",
       "       [5.5],\n",
       "       [2.1],\n",
       "       [3.5],\n",
       "       [3.5],\n",
       "       [3.5],\n",
       "       [3. ],\n",
       "       [4.7],\n",
       "       [5.5],\n",
       "       [4.7],\n",
       "       [5.5],\n",
       "       [1.8],\n",
       "       [1.8],\n",
       "       [5.5],\n",
       "       [6.2],\n",
       "       [6.2],\n",
       "       [1.6],\n",
       "       [1.6],\n",
       "       [1.6],\n",
       "       [1.6],\n",
       "       [1.6],\n",
       "       [1.6],\n",
       "       [1.6],\n",
       "       [1.6],\n",
       "       [1.6],\n",
       "       [1.6],\n",
       "       [1.6],\n",
       "       [1.6],\n",
       "       [1.6],\n",
       "       [1.6],\n",
       "       [1.6],\n",
       "       [1.6],\n",
       "       [1.6],\n",
       "       [1.6],\n",
       "       [1.6],\n",
       "       [1.6],\n",
       "       [1.6],\n",
       "       [1.6],\n",
       "       [1.6],\n",
       "       [1.6],\n",
       "       [1.6],\n",
       "       [1.6],\n",
       "       [1.6],\n",
       "       [1.6],\n",
       "       [2. ],\n",
       "       [2.4],\n",
       "       [2. ],\n",
       "       [2. ],\n",
       "       [2. ],\n",
       "       [1.2],\n",
       "       [2.4],\n",
       "       [2.4],\n",
       "       [3. ],\n",
       "       [2. ],\n",
       "       [2. ],\n",
       "       [3.7],\n",
       "       [3.7],\n",
       "       [3.7],\n",
       "       [2.5],\n",
       "       [3.5],\n",
       "       [5.6],\n",
       "       [2.5],\n",
       "       [2.5],\n",
       "       [4. ],\n",
       "       [4. ],\n",
       "       [3.8],\n",
       "       [1.6],\n",
       "       [1.6],\n",
       "       [1.6],\n",
       "       [3.5],\n",
       "       [2. ],\n",
       "       [2.5],\n",
       "       [3.5],\n",
       "       [2.5],\n",
       "       [1.8],\n",
       "       [5.6],\n",
       "       [5.6],\n",
       "       [1.6],\n",
       "       [4. ],\n",
       "       [4. ],\n",
       "       [3.4],\n",
       "       [3.4],\n",
       "       [3.4],\n",
       "       [3.4],\n",
       "       [3.4],\n",
       "       [3.8],\n",
       "       [3.4],\n",
       "       [3.8],\n",
       "       [3.8],\n",
       "       [3.8],\n",
       "       [3.8],\n",
       "       [2.7],\n",
       "       [3.4],\n",
       "       [3.6],\n",
       "       [3.6],\n",
       "       [3. ],\n",
       "       [4.8],\n",
       "       [3. ],\n",
       "       [4.8],\n",
       "       [2.7],\n",
       "       [3.4],\n",
       "       [3.4],\n",
       "       [3.6],\n",
       "       [3. ],\n",
       "       [4.8],\n",
       "       [3. ],\n",
       "       [4.8],\n",
       "       [4.8],\n",
       "       [5.7],\n",
       "       [5.7],\n",
       "       [5.7],\n",
       "       [3. ],\n",
       "       [3.6],\n",
       "       [3.6],\n",
       "       [3. ],\n",
       "       [3.6],\n",
       "       [3.6],\n",
       "       [3.6],\n",
       "       [3.6],\n",
       "       [6.6],\n",
       "       [6.6],\n",
       "       [6.7],\n",
       "       [6.7],\n",
       "       [6.7],\n",
       "       [6.7],\n",
       "       [6.6],\n",
       "       [2. ],\n",
       "       [2. ],\n",
       "       [1.3],\n",
       "       [2.5],\n",
       "       [2.5],\n",
       "       [2.4],\n",
       "       [2.4],\n",
       "       [1.8],\n",
       "       [1. ],\n",
       "       [1. ],\n",
       "       [8.4],\n",
       "       [8.4],\n",
       "       [2. ],\n",
       "       [2. ],\n",
       "       [2.5],\n",
       "       [2.5],\n",
       "       [2. ],\n",
       "       [2.5],\n",
       "       [2.5],\n",
       "       [2.5],\n",
       "       [2.5],\n",
       "       [2.5],\n",
       "       [2.5],\n",
       "       [3.6],\n",
       "       [2.5],\n",
       "       [2.5],\n",
       "       [3.6],\n",
       "       [3.6],\n",
       "       [2. ],\n",
       "       [2. ],\n",
       "       [4. ],\n",
       "       [3.5],\n",
       "       [2.5],\n",
       "       [2.5],\n",
       "       [2.5],\n",
       "       [1.8],\n",
       "       [1.8],\n",
       "       [1.8],\n",
       "       [1.8],\n",
       "       [1.8],\n",
       "       [1.8],\n",
       "       [4. ],\n",
       "       [4. ],\n",
       "       [2.7],\n",
       "       [3.5],\n",
       "       [3.5],\n",
       "       [3.5],\n",
       "       [3.5],\n",
       "       [1.8],\n",
       "       [1.5],\n",
       "       [1.8],\n",
       "       [2.5],\n",
       "       [2.5],\n",
       "       [3.5],\n",
       "       [3.5],\n",
       "       [2.7],\n",
       "       [2.7],\n",
       "       [2.7],\n",
       "       [2.7],\n",
       "       [4. ],\n",
       "       [4. ],\n",
       "       [4. ],\n",
       "       [4.6],\n",
       "       [5.7],\n",
       "       [4.6],\n",
       "       [5.7],\n",
       "       [3.5],\n",
       "       [2.7],\n",
       "       [1.5],\n",
       "       [1.8],\n",
       "       [1.8],\n",
       "       [2. ],\n",
       "       [2. ],\n",
       "       [2.5],\n",
       "       [1.8],\n",
       "       [2. ],\n",
       "       [2. ],\n",
       "       [2.5],\n",
       "       [2. ],\n",
       "       [2. ],\n",
       "       [2. ],\n",
       "       [2. ],\n",
       "       [2. ],\n",
       "       [2. ],\n",
       "       [1.8],\n",
       "       [1.8],\n",
       "       [2. ],\n",
       "       [2. ],\n",
       "       [2. ],\n",
       "       [2. ],\n",
       "       [2. ],\n",
       "       [1.4],\n",
       "       [1.8],\n",
       "       [1.8],\n",
       "       [2.5],\n",
       "       [2.5],\n",
       "       [3.6],\n",
       "       [2. ],\n",
       "       [3.6],\n",
       "       [2. ],\n",
       "       [2. ],\n",
       "       [2. ],\n",
       "       [3.6],\n",
       "       [3. ],\n",
       "       [2.5],\n",
       "       [2.5],\n",
       "       [3. ],\n",
       "       [3.2],\n",
       "       [3. ],\n",
       "       [3.2],\n",
       "       [3. ],\n",
       "       [3.2],\n",
       "       [3. ],\n",
       "       [3.2]])"
      ]
     },
     "execution_count": 25,
     "metadata": {},
     "output_type": "execute_result"
    }
   ],
   "source": [
    "x_train_df"
   ]
  },
  {
   "cell_type": "code",
   "execution_count": 26,
   "id": "eaafbc44",
   "metadata": {},
   "outputs": [],
   "source": [
    "# Create a model\n",
    "from sklearn import linear_model\n",
    "clf=linear_model.LinearRegression()"
   ]
  },
  {
   "cell_type": "code",
   "execution_count": 27,
   "id": "a44b62b0",
   "metadata": {},
   "outputs": [
    {
     "data": {
      "text/plain": [
       "LinearRegression()"
      ]
     },
     "execution_count": 27,
     "metadata": {},
     "output_type": "execute_result"
    }
   ],
   "source": [
    "#Train\n",
    "clf.fit(x_train_df,y_train_df)"
   ]
  },
  {
   "cell_type": "code",
   "execution_count": 28,
   "id": "7d7e0d21",
   "metadata": {},
   "outputs": [
    {
     "data": {
      "text/plain": [
       "array([124.78299377])"
      ]
     },
     "execution_count": 28,
     "metadata": {},
     "output_type": "execute_result"
    }
   ],
   "source": [
    "c=clf.intercept_\n",
    "c"
   ]
  },
  {
   "cell_type": "code",
   "execution_count": 29,
   "id": "e16a5972",
   "metadata": {},
   "outputs": [
    {
     "data": {
      "text/plain": [
       "array([[39.49931589]])"
      ]
     },
     "execution_count": 29,
     "metadata": {},
     "output_type": "execute_result"
    }
   ],
   "source": [
    "m=clf.coef_\n",
    "m"
   ]
  },
  {
   "cell_type": "code",
   "execution_count": 30,
   "id": "528e2c9c",
   "metadata": {},
   "outputs": [],
   "source": [
    "# y= mx + c\n",
    "#Co2 Emissions =  38.91 * Engine size + 126.06"
   ]
  },
  {
   "cell_type": "code",
   "execution_count": 31,
   "id": "62a3dabf",
   "metadata": {},
   "outputs": [
    {
     "data": {
      "text/plain": [
       "array([[1.5],\n",
       "       [3.5],\n",
       "       [2.4],\n",
       "       [5.9]])"
      ]
     },
     "execution_count": 31,
     "metadata": {},
     "output_type": "execute_result"
    }
   ],
   "source": [
    "#Actual Values\n",
    "x_test_df[0:4]"
   ]
  },
  {
   "cell_type": "code",
   "execution_count": 32,
   "id": "9653df28",
   "metadata": {},
   "outputs": [
    {
     "data": {
      "text/plain": [
       "array([[136],\n",
       "       [232],\n",
       "       [225],\n",
       "       [359]], dtype=int64)"
      ]
     },
     "execution_count": 32,
     "metadata": {},
     "output_type": "execute_result"
    }
   ],
   "source": [
    "y_test_df[0:4]"
   ]
  },
  {
   "cell_type": "code",
   "execution_count": 33,
   "id": "c739e254",
   "metadata": {},
   "outputs": [],
   "source": [
    "# Testing"
   ]
  },
  {
   "cell_type": "code",
   "execution_count": 34,
   "id": "406b2fda",
   "metadata": {},
   "outputs": [
    {
     "data": {
      "text/plain": [
       "array([[184.0319676 ],\n",
       "       [263.03059937],\n",
       "       [219.58135189],\n",
       "       [357.8289575 ]])"
      ]
     },
     "execution_count": 34,
     "metadata": {},
     "output_type": "execute_result"
    }
   ],
   "source": [
    "clf.predict(x_test_df[0:4])"
   ]
  },
  {
   "cell_type": "code",
   "execution_count": 35,
   "id": "e36b5388",
   "metadata": {},
   "outputs": [],
   "source": [
    "#Predicted values\n",
    "y_predicted = clf.predict(x_test_df)"
   ]
  },
  {
   "cell_type": "code",
   "execution_count": 36,
   "id": "2bd6eb13",
   "metadata": {},
   "outputs": [
    {
     "data": {
      "text/plain": [
       "20.899064494730062"
      ]
     },
     "execution_count": 36,
     "metadata": {},
     "output_type": "execute_result"
    }
   ],
   "source": [
    "# Mean Absolute Error\n",
    "np.mean(np.abs(y_predicted - y_test_df))"
   ]
  },
  {
   "cell_type": "code",
   "execution_count": 37,
   "id": "c36ac93f",
   "metadata": {},
   "outputs": [],
   "source": [
    "from sklearn import linear_model"
   ]
  },
  {
   "cell_type": "code",
   "execution_count": 38,
   "id": "e06de40b",
   "metadata": {},
   "outputs": [],
   "source": [
    "#Converting training and testing data to numpy array\n",
    "\n",
    "#Using multiple cols- M U L T I P L E   R E G R E S S I O N\n",
    "x_train_df= train_df[[\"ENGINESIZE\",\"CYLINDERS\",\"FUELCONSUMPTION_HWY\",\"FUELCONSUMPTION_COMB\"]]\n",
    "y_train_df= train_df[[\"CO2EMISSIONS\"]]\n",
    "x_test_df= test_df[[\"ENGINESIZE\",\"CYLINDERS\",\"FUELCONSUMPTION_HWY\",\"FUELCONSUMPTION_COMB\"]]\n",
    "y_test_df= test_df[[\"CO2EMISSIONS\"]]\n",
    "#Converting to numpy array\n",
    "x_train_df= np.asarray(x_train_df)\n",
    "y_train_df= np.asarray(y_train_df)\n",
    "x_test_df= np.asarray(x_test_df)\n",
    "y_test_df= np.asarray(y_test_df)"
   ]
  },
  {
   "cell_type": "code",
   "execution_count": 39,
   "id": "a4d4af8c",
   "metadata": {},
   "outputs": [
    {
     "data": {
      "text/plain": [
       "LinearRegression()"
      ]
     },
     "execution_count": 39,
     "metadata": {},
     "output_type": "execute_result"
    }
   ],
   "source": [
    "# Create a model\n",
    "clf=linear_model.LinearRegression()\n",
    "#Train\n",
    "clf.fit(x_train_df,y_train_df)"
   ]
  },
  {
   "cell_type": "code",
   "execution_count": 40,
   "id": "d0ff8539",
   "metadata": {},
   "outputs": [
    {
     "name": "stdout",
     "output_type": "stream",
     "text": [
      "[65.04538459]\n",
      "[[10.93280689  7.85982066  0.1015565   9.34627022]]\n"
     ]
    }
   ],
   "source": [
    "print(clf.intercept_)\n",
    "print(clf.coef_)"
   ]
  },
  {
   "cell_type": "code",
   "execution_count": 41,
   "id": "35cc61c4",
   "metadata": {},
   "outputs": [],
   "source": [
    "#Prediction\n",
    "y_predicted = clf.predict(x_test_df)"
   ]
  },
  {
   "cell_type": "code",
   "execution_count": 42,
   "id": "d75f6d17",
   "metadata": {},
   "outputs": [
    {
     "data": {
      "text/plain": [
       "array([[168.61589959],\n",
       "       [245.68906958],\n",
       "       [215.13945961],\n",
       "       [370.94822056]])"
      ]
     },
     "execution_count": 42,
     "metadata": {},
     "output_type": "execute_result"
    }
   ],
   "source": [
    "y_predicted[0:4]"
   ]
  },
  {
   "cell_type": "code",
   "execution_count": 43,
   "id": "c51ed2fe",
   "metadata": {},
   "outputs": [
    {
     "data": {
      "text/plain": [
       "array([[136],\n",
       "       [232],\n",
       "       [225],\n",
       "       [359]], dtype=int64)"
      ]
     },
     "execution_count": 43,
     "metadata": {},
     "output_type": "execute_result"
    }
   ],
   "source": [
    "#Actual values\n",
    "y_test_df[0:4]"
   ]
  },
  {
   "cell_type": "code",
   "execution_count": 49,
   "id": "6fcdc0fb",
   "metadata": {},
   "outputs": [
    {
     "data": {
      "text/plain": [
       "0.8877355313035324"
      ]
     },
     "execution_count": 49,
     "metadata": {},
     "output_type": "execute_result"
    }
   ],
   "source": [
    "#Calculating r2 score of the predicted data\n",
    "from sklearn.metrics import r2_score\n",
    "r2_score(y_test_df,y_predicted)"
   ]
  },
  {
   "cell_type": "code",
   "execution_count": null,
   "id": "ee9da5b4",
   "metadata": {},
   "outputs": [],
   "source": []
  }
 ],
 "metadata": {
  "kernelspec": {
   "display_name": "Python 3",
   "language": "python",
   "name": "python3"
  },
  "language_info": {
   "codemirror_mode": {
    "name": "ipython",
    "version": 3
   },
   "file_extension": ".py",
   "mimetype": "text/x-python",
   "name": "python",
   "nbconvert_exporter": "python",
   "pygments_lexer": "ipython3",
   "version": "3.8.8"
  }
 },
 "nbformat": 4,
 "nbformat_minor": 5
}
