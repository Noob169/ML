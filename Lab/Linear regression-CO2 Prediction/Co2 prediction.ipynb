{
 "cells": [
  {
   "cell_type": "code",
   "execution_count": 2,
   "id": "e768600b",
   "metadata": {},
   "outputs": [],
   "source": [
    "import pandas as pd\n",
    "import numpy as np\n",
    "from matplotlib import pyplot as plt"
   ]
  },
  {
   "cell_type": "markdown",
   "id": "3324abe7",
   "metadata": {},
   "source": [
    "OPENING THE DATASET AND DESCRIBING ITS FEATURES:"
   ]
  },
  {
   "cell_type": "code",
   "execution_count": 8,
   "id": "f074c514",
   "metadata": {},
   "outputs": [
    {
     "name": "stdout",
     "output_type": "stream",
     "text": [
      "<class 'pandas.core.frame.DataFrame'>\n",
      "RangeIndex: 1067 entries, 0 to 1066\n",
      "Data columns (total 4 columns):\n",
      " #   Column            Non-Null Count  Dtype  \n",
      "---  ------            --------------  -----  \n",
      " 0   Engine_Size       1067 non-null   float64\n",
      " 1   Cylinders         1067 non-null   int64  \n",
      " 2   Fuel_Consumption  1067 non-null   float64\n",
      " 3   CO2_Emissions     1067 non-null   int64  \n",
      "dtypes: float64(2), int64(2)\n",
      "memory usage: 33.5 KB\n"
     ]
    },
    {
     "data": {
      "text/html": [
       "<div>\n",
       "<style scoped>\n",
       "    .dataframe tbody tr th:only-of-type {\n",
       "        vertical-align: middle;\n",
       "    }\n",
       "\n",
       "    .dataframe tbody tr th {\n",
       "        vertical-align: top;\n",
       "    }\n",
       "\n",
       "    .dataframe thead th {\n",
       "        text-align: right;\n",
       "    }\n",
       "</style>\n",
       "<table border=\"1\" class=\"dataframe\">\n",
       "  <thead>\n",
       "    <tr style=\"text-align: right;\">\n",
       "      <th></th>\n",
       "      <th>Engine_Size</th>\n",
       "      <th>Cylinders</th>\n",
       "      <th>Fuel_Consumption</th>\n",
       "      <th>CO2_Emissions</th>\n",
       "    </tr>\n",
       "  </thead>\n",
       "  <tbody>\n",
       "    <tr>\n",
       "      <th>count</th>\n",
       "      <td>1067.000000</td>\n",
       "      <td>1067.000000</td>\n",
       "      <td>1067.000000</td>\n",
       "      <td>1067.000000</td>\n",
       "    </tr>\n",
       "    <tr>\n",
       "      <th>mean</th>\n",
       "      <td>3.346298</td>\n",
       "      <td>5.794752</td>\n",
       "      <td>13.296532</td>\n",
       "      <td>256.228679</td>\n",
       "    </tr>\n",
       "    <tr>\n",
       "      <th>std</th>\n",
       "      <td>1.415895</td>\n",
       "      <td>1.797447</td>\n",
       "      <td>4.101253</td>\n",
       "      <td>63.372304</td>\n",
       "    </tr>\n",
       "    <tr>\n",
       "      <th>min</th>\n",
       "      <td>1.000000</td>\n",
       "      <td>3.000000</td>\n",
       "      <td>4.600000</td>\n",
       "      <td>108.000000</td>\n",
       "    </tr>\n",
       "    <tr>\n",
       "      <th>25%</th>\n",
       "      <td>2.000000</td>\n",
       "      <td>4.000000</td>\n",
       "      <td>10.250000</td>\n",
       "      <td>207.000000</td>\n",
       "    </tr>\n",
       "    <tr>\n",
       "      <th>50%</th>\n",
       "      <td>3.400000</td>\n",
       "      <td>6.000000</td>\n",
       "      <td>12.600000</td>\n",
       "      <td>251.000000</td>\n",
       "    </tr>\n",
       "    <tr>\n",
       "      <th>75%</th>\n",
       "      <td>4.300000</td>\n",
       "      <td>8.000000</td>\n",
       "      <td>15.550000</td>\n",
       "      <td>294.000000</td>\n",
       "    </tr>\n",
       "    <tr>\n",
       "      <th>max</th>\n",
       "      <td>8.400000</td>\n",
       "      <td>12.000000</td>\n",
       "      <td>30.200000</td>\n",
       "      <td>488.000000</td>\n",
       "    </tr>\n",
       "  </tbody>\n",
       "</table>\n",
       "</div>"
      ],
      "text/plain": [
       "       Engine_Size    Cylinders  Fuel_Consumption  CO2_Emissions\n",
       "count  1067.000000  1067.000000       1067.000000    1067.000000\n",
       "mean      3.346298     5.794752         13.296532     256.228679\n",
       "std       1.415895     1.797447          4.101253      63.372304\n",
       "min       1.000000     3.000000          4.600000     108.000000\n",
       "25%       2.000000     4.000000         10.250000     207.000000\n",
       "50%       3.400000     6.000000         12.600000     251.000000\n",
       "75%       4.300000     8.000000         15.550000     294.000000\n",
       "max       8.400000    12.000000         30.200000     488.000000"
      ]
     },
     "execution_count": 8,
     "metadata": {},
     "output_type": "execute_result"
    }
   ],
   "source": [
    "df=pd.read_csv(r\"C:\\Users\\User\\Desktop\\ML_Dataset_CO2Emission.csv - ML_Dataset_CO2Emission.csv.csv\")\n",
    "df.info()\n",
    "df.describe()\n"
   ]
  },
  {
   "cell_type": "markdown",
   "id": "6ea278bb",
   "metadata": {},
   "source": [
    "VISUAL REPRESENTATION OF THE DATASET USING A SCATTER PLOT\n",
    "\n",
    "To check if a linear relationship exists between the dependant and independent variables"
   ]
  },
  {
   "cell_type": "code",
   "execution_count": 12,
   "id": "88853ff5",
   "metadata": {},
   "outputs": [
    {
     "data": {
      "image/png": "[encoded data removed]",
      "text/plain": [
       "<Figure size 432x288 with 1 Axes>"
      ]
     },
     "metadata": {
      "needs_background": "light"
     },
     "output_type": "display_data"
    }
   ],
   "source": [
    "plt.scatter(df[\"Engine_Size\"],df[\"CO2_Emissions\"])\n",
    "plt.title(\"C02 Emissions vs Engine Size\")\n",
    "plt.xlabel(\"Engine Size ------>\")\n",
    "plt.ylabel(\"CO2 Emission ------>\")\n",
    "plt.show()"
   ]
  },
  {
   "cell_type": "markdown",
   "id": "46d57d51",
   "metadata": {},
   "source": [
    "SPLITTING THE DATASET INTO TRAINING AND TEST DATASETS"
   ]
  },
  {
   "cell_type": "code",
   "execution_count": 17,
   "id": "74ae44df",
   "metadata": {},
   "outputs": [
    {
     "name": "stdout",
     "output_type": "stream",
     "text": [
      "Training Data:\n",
      " <bound method NDFrame.head of       Engine_Size  Cylinders  Fuel_Consumption  CO2_Emissions\n",
      "270           3.6          6              14.6            290\n",
      "1006          4.6          8              16.9            347\n",
      "728           3.5          6              12.1            244\n",
      "992           2.5          4              10.6            218\n",
      "702           1.5          4               8.0            170\n",
      "...           ...        ...               ...            ...\n",
      "1033          2.0          4               7.9            186\n",
      "763           3.5          6              17.8            256\n",
      "835           3.7          6              13.5            269\n",
      "559           5.0          8              15.8            306\n",
      "684           3.7          6              13.1            262\n",
      "\n",
      "[853 rows x 4 columns]>\n",
      "\n",
      "Test Data\n",
      " <bound method NDFrame.head of       Engine_Size  Cylinders  Fuel_Consumption  CO2_Emissions\n",
      "766           5.5          8              17.2            356\n",
      "204           2.4          4              10.5            209\n",
      "629           2.4          4              11.4            230\n",
      "897           2.7          6              10.7            212\n",
      "711           2.5          4               8.2            168\n",
      "...           ...        ...               ...            ...\n",
      "822           2.0          4               9.6            198\n",
      "1029          2.0          4              10.9            221\n",
      "798           1.6          4               9.3            191\n",
      "803           1.6          4               9.1            184\n",
      "251           1.4          4               9.1            184\n",
      "\n",
      "[214 rows x 4 columns]>\n"
     ]
    }
   ],
   "source": [
    "from sklearn.model_selection import train_test_split as tts\n",
    "training_data, test_data = tts(df, test_size = 0.2, random_state = 0)\n",
    "print(\"Training Data:\\n\",training_data.head)\n",
    "print(\"\\nTest Data\\n\",test_data.head)"
   ]
  },
  {
   "cell_type": "markdown",
   "id": "76a2e82b",
   "metadata": {},
   "source": [
    "CREATING THE MODEL"
   ]
  },
  {
   "cell_type": "code",
   "execution_count": 18,
   "id": "e1d46ca8",
   "metadata": {},
   "outputs": [
    {
     "name": "stdout",
     "output_type": "stream",
     "text": [
      "X Coefficient:  [[39.24838431]]\n",
      "Y Intercept:  [126.18920155]\n"
     ]
    }
   ],
   "source": [
    "from sklearn import linear_model\n",
    "lin_reg = linear_model.LinearRegression()\n",
    "train_x = np.asanyarray(training_data[['Engine_Size']])\n",
    "train_y = np.asanyarray(training_data[['CO2_Emissions']])\n",
    "lin_reg.fit(train_x, train_y)\n",
    "\n",
    "#Coefficients\n",
    "print(\"X Coefficient: \", lin_reg.coef_)\n",
    "print(\"Y Intercept: \", lin_reg.intercept_)"
   ]
  },
  {
   "cell_type": "markdown",
   "id": "2c4e55b2",
   "metadata": {},
   "source": [
    "PLOTTING THE REGRESSION LINE"
   ]
  },
  {
   "cell_type": "code",
   "execution_count": 19,
   "id": "d1f580aa",
   "metadata": {},
   "outputs": [
    {
     "data": {
      "text/plain": [
       "Text(0, 0.5, 'CO2 Emission')"
      ]
     },
     "execution_count": 19,
     "metadata": {},
     "output_type": "execute_result"
    },
    {
     "data": {
      "image/png": "[encoded data removed]",
      "text/plain": [
       "<Figure size 432x288 with 1 Axes>"
      ]
     },
     "metadata": {
      "needs_background": "light"
     },
     "output_type": "display_data"
    }
   ],
   "source": [
    "plt.scatter(training_data.Engine_Size, training_data.CO2_Emissions, color = 'blue')\n",
    "plt.plot(train_x, lin_reg.coef_[0][0]*train_x + lin_reg.intercept_[0], '-r')\n",
    "plt.xlabel('Engine Size')\n",
    "plt.ylabel('CO2 Emission')"
   ]
  },
  {
   "cell_type": "markdown",
   "id": "8f74b58b",
   "metadata": {},
   "source": [
    "EVALUATING THE MODEL USING R2-SCORE\n"
   ]
  },
  {
   "cell_type": "code",
   "execution_count": 20,
   "id": "dda8ce93",
   "metadata": {},
   "outputs": [
    {
     "name": "stdout",
     "output_type": "stream",
     "text": [
      "Mean Absolute Error: 25.57\n",
      "Residual Sum of Squares: 1181.53\n",
      "R2-Score: 0.72\n"
     ]
    }
   ],
   "source": [
    "\n",
    "from sklearn.metrics import r2_score\n",
    "test_x = np.asanyarray(test_data[['Engine_Size']])\n",
    "test_y = np.asanyarray(test_data[['CO2_Emissions']])\n",
    "test_y1 = lin_reg.predict(test_x)\n",
    "print('Mean Absolute Error: %.2f' % np.mean(np.absolute(test_y1 - test_y)))\n",
    "print('Residual Sum of Squares: %.2f' % np.mean(np.absolute(test_y1 - test_y)**2))\n",
    "print('R2-Score: %.2f' % r2_score(test_y, test_y1))"
   ]
  }
 ],
 "metadata": {
  "kernelspec": {
   "display_name": "Python 3",
   "language": "python",
   "name": "python3"
  },
  "language_info": {
   "codemirror_mode": {
    "name": "ipython",
    "version": 3
   },
   "file_extension": ".py",
   "mimetype": "text/x-python",
   "name": "python",
   "nbconvert_exporter": "python",
   "pygments_lexer": "ipython3",
   "version": "3.9.7"
  }
 },
 "nbformat": 4,
 "nbformat_minor": 5
}
