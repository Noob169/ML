{
 "cells": [
  {
   "cell_type": "markdown",
   "metadata": {},
   "source": [
    "IMPORTING THE RELEVANT LIBRARIES"
   ]
  },
  {
   "cell_type": "code",
   "execution_count": 12,
   "metadata": {},
   "outputs": [],
   "source": [
    "import pandas as pd\n",
    "import numpy as np\n",
    "import matplotlib.pyplot as plt"
   ]
  },
  {
   "cell_type": "markdown",
   "metadata": {},
   "source": [
    "READING AND DESCRIBING THE DATASET"
   ]
  },
  {
   "cell_type": "code",
   "execution_count": 40,
   "metadata": {},
   "outputs": [
    {
     "name": "stdout",
     "output_type": "stream",
     "text": [
      "Index(['Name', 'Aptitude', 'Communication', 'Class'], dtype='object')\n",
      "\n",
      "DESCRIBING THE DATASET\n",
      "        Aptitude  Communication\n",
      "count  16.000000      16.000000\n",
      "mean    5.562500       4.937500\n",
      "std     2.064582       1.631717\n",
      "min     2.000000       2.000000\n",
      "25%     4.750000       3.750000\n",
      "50%     6.000000       5.250000\n",
      "75%     7.000000       6.000000\n",
      "max     9.000000       7.000000\n",
      "\n",
      "INFO ON THE DATASET\n",
      "<class 'pandas.core.frame.DataFrame'>\n",
      "RangeIndex: 16 entries, 0 to 15\n",
      "Data columns (total 4 columns):\n",
      " #   Column         Non-Null Count  Dtype  \n",
      "---  ------         --------------  -----  \n",
      " 0   Name           16 non-null     object \n",
      " 1   Aptitude       16 non-null     int64  \n",
      " 2   Communication  16 non-null     float64\n",
      " 3   Class          16 non-null     object \n",
      "dtypes: float64(1), int64(1), object(2)\n",
      "memory usage: 640.0+ bytes\n"
     ]
    }
   ],
   "source": [
    "df=pd.read_csv(r\"E:\\code\\ML\\Lab\\Linear regression-CO2 Prediction\\kNN\\KNN_Data_Set_v2.0.csv\")\n",
    "print(df.columns)\n",
    "print(\"\\nDESCRIBING THE DATASET\")\n",
    "print(df.describe())\n",
    "print(\"\\nINFO ON THE DATASET\")\n",
    "df.info()"
   ]
  },
  {
   "cell_type": "markdown",
   "metadata": {},
   "source": [
    "VISUALIZING THE DATA"
   ]
  },
  {
   "cell_type": "code",
   "execution_count": 14,
   "metadata": {},
   "outputs": [
    {
     "data": {
      "text/plain": [
       "<matplotlib.collections.PathCollection at 0x19e2c096b80>"
      ]
     },
     "execution_count": 14,
     "metadata": {},
     "output_type": "execute_result"
    },
    {
     "data": {
      "image/png": "[encoded data removed]",
      "text/plain": [
       "<Figure size 432x288 with 1 Axes>"
      ]
     },
     "metadata": {
      "needs_background": "light"
     },
     "output_type": "display_data"
    }
   ],
   "source": [
    "plt.scatter(df['Aptitude'],df['Communication'],color='red')"
   ]
  },
  {
   "cell_type": "markdown",
   "metadata": {},
   "source": [
    "IMPORTING THE SKLEARN PACKAGE FOR SPLITTING DATA AND FOR MODEL SELECTION"
   ]
  },
  {
   "cell_type": "code",
   "execution_count": 33,
   "metadata": {},
   "outputs": [
    {
     "name": "stdout",
     "output_type": "stream",
     "text": [
      "    Aptitude  Communication\n",
      "10         6            4.0\n",
      "4          8            6.0\n",
      "1          2            6.0\n",
      "14         5            4.5\n",
      "0          2            5.0\n",
      "15         5            5.0\n",
      "9          6            5.5\n",
      "8          8            3.0\n",
      "12         6            2.0\n",
      "11         6            7.0\n",
      "5          4            7.0\n",
      "10      Intel\n",
      "4      Leader\n",
      "1     Speaker\n",
      "14      Intel\n",
      "0     Speaker\n",
      "15    Speaker\n",
      "9      Leader\n",
      "8       Intel\n",
      "12      Intel\n",
      "11     Leader\n",
      "5     Speaker\n",
      "Name: Class, dtype: object\n"
     ]
    }
   ],
   "source": [
    "from sklearn.model_selection import train_test_split\n",
    "predictors = df.iloc[:,1:3]\n",
    "target=df.iloc[:,3]\n",
    "train_x,test_x,train_y,test_y=train_test_split(predictors,target,test_size=0.3,random_state=1)\n",
    "print(train_x)\n",
    "print(train_y)"
   ]
  },
  {
   "cell_type": "markdown",
   "metadata": {},
   "source": [
    "FITTING THE MODEL"
   ]
  },
  {
   "cell_type": "code",
   "execution_count": 37,
   "metadata": {},
   "outputs": [
    {
     "name": "stdout",
     "output_type": "stream",
     "text": [
      "Test data/predictors:\n",
      "    Aptitude  Communication\n",
      "3          7            2.5\n",
      "13         9            7.0\n",
      "7          3            5.5\n",
      "2          7            6.0\n",
      "6          5            3.0\n",
      "Test data/target values:\n",
      "3       Intel\n",
      "13     Leader\n",
      "7     Speaker\n",
      "2      Leader\n",
      "6       Intel\n",
      "Name: Class, dtype: object\n",
      "Test predictions:\n",
      " ['Intel' 'Leader' 'Speaker' 'Leader' 'Intel']\n"
     ]
    }
   ],
   "source": [
    "from sklearn.neighbors import KNeighborsClassifier\n",
    "knn_classifier=KNeighborsClassifier(n_neighbors=3)\n",
    "knn_classifier.fit(train_x,train_y)\n",
    "print(\"Test data/predictors:\\n{}\".format(test_x))\n",
    "print(\"Test data/target values:\\n{}\".format(test_y))\n",
    "print(\"Test predictions:\\n {}\".format(knn_classifier.predict(test_x)))\n"
   ]
  },
  {
   "cell_type": "markdown",
   "metadata": {},
   "source": [
    "EVALUATING THE MODEL"
   ]
  },
  {
   "cell_type": "code",
   "execution_count": 39,
   "metadata": {},
   "outputs": [
    {
     "name": "stdout",
     "output_type": "stream",
     "text": [
      "Accuracy: 1.000000\n",
      "Confusion matrix: \n",
      "[[2 0 0]\n",
      " [0 2 0]\n",
      " [0 0 1]]\n"
     ]
    }
   ],
   "source": [
    "from sklearn.metrics import accuracy_score\n",
    "from sklearn.metrics import confusion_matrix\n",
    "score=knn_classifier.score(test_x,test_y)\n",
    "print(\"Accuracy: %lf\"%score)\n",
    "c_matrix=confusion_matrix(test_y,knn_classifier.predict(test_x))\n",
    "print(\"Confusion matrix: \\n{}\".format(c_matrix))"
   ]
  }
 ],
 "metadata": {
  "interpreter": {
   "hash": "88258a9b74f166d2a142bec26623f1a446cf339eda32333a291a5fde34038df3"
  },
  "kernelspec": {
   "display_name": "Python 3.9.7 ('base')",
   "language": "python",
   "name": "python3"
  },
  "language_info": {
   "codemirror_mode": {
    "name": "ipython",
    "version": 3
   },
   "file_extension": ".py",
   "mimetype": "text/x-python",
   "name": "python",
   "nbconvert_exporter": "python",
   "pygments_lexer": "ipython3",
   "version": "3.9.7"
  },
  "orig_nbformat": 4
 },
 "nbformat": 4,
 "nbformat_minor": 2
}
