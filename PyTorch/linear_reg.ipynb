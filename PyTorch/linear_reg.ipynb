{
 "cells": [
  {
   "cell_type": "markdown",
   "metadata": {},
   "source": [
    "DEMONSTARTING A LINEAR REGRESSION MODEL USING PYTORCH\n",
    "<br>We are going to construct a linear regression model where the regression line is y = 2x + 4\n",
    "<br>The train and test dataset is going to be constructed by us as a numpy array by using a bunch of random numbers"
   ]
  },
  {
   "cell_type": "code",
   "execution_count": 8,
   "metadata": {},
   "outputs": [
    {
     "name": "stdout",
     "output_type": "stream",
     "text": [
      "Training data\n",
      "Shape of X and Y: (25, 1)\n",
      "X: [[8.92121261]\n",
      " [4.31726382]\n",
      " [0.7661472 ]\n",
      " [5.71491193]\n",
      " [1.08042427]] \n",
      "Y: [[21.84242522]\n",
      " [12.63452765]\n",
      " [ 5.5322944 ]\n",
      " [15.42982386]\n",
      " [ 6.16084854]]\n"
     ]
    },
    {
     "data": {
      "image/png": "[encoded data removed]",
      "text/plain": [
       "<Figure size 432x288 with 1 Axes>"
      ]
     },
     "metadata": {
      "needs_background": "light"
     },
     "output_type": "display_data"
    },
    {
     "ename": "RuntimeError",
     "evalue": "Numpy is not available",
     "output_type": "error",
     "traceback": [
      "\u001b[1;31m---------------------------------------------------------------------------\u001b[0m",
      "\u001b[1;31mRuntimeError\u001b[0m                              Traceback (most recent call last)",
      "\u001b[1;32me:\\Code\\ML\\PyTorch\\linear_reg.ipynb Cell 2\u001b[0m in \u001b[0;36m<module>\u001b[1;34m\u001b[0m\n\u001b[0;32m     <a href='vscode-notebook-cell:/e%3A/Code/ML/PyTorch/linear_reg.ipynb#W0sZmlsZQ%3D%3D?line=21'>22</a>\u001b[0m plt\u001b[39m.\u001b[39mshow()\n\u001b[0;32m     <a href='vscode-notebook-cell:/e%3A/Code/ML/PyTorch/linear_reg.ipynb#W0sZmlsZQ%3D%3D?line=23'>24</a>\u001b[0m \u001b[39m#Converting the datasets into tensors:\u001b[39;00m\n\u001b[1;32m---> <a href='vscode-notebook-cell:/e%3A/Code/ML/PyTorch/linear_reg.ipynb#W0sZmlsZQ%3D%3D?line=24'>25</a>\u001b[0m tensor_x \u001b[39m=\u001b[39m torch\u001b[39m.\u001b[39;49mfrom_numpy(X_train)\n",
      "\u001b[1;31mRuntimeError\u001b[0m: Numpy is not available"
     ]
    }
   ],
   "source": [
    "#Loading the necessary modules:\n",
    "import torch\n",
    "import numpy as np\n",
    "import matplotlib.pyplot as plt\n",
    "\n",
    "#Constructing the training dataset:\n",
    "X_train = np.random.rand(25,1)*10\n",
    "Y_train = 2*X_train+4\n",
    "\n",
    "#Constructing the test dataset:\n",
    "X_test = np.random.rand(10,1)*10\n",
    "Y_test = 2*X_test+4\n",
    "\n",
    "#Printing the training and test datasets:\n",
    "print(\"Training data\\nShape of X and Y:\",X_train.shape)\n",
    "print(\"X:\",X_train[0:5],\"\\nY:\",Y_train[0:5])\n",
    "\n",
    "#Visualizing the training datasets:\n",
    "plt.plot(X_train,Y_train)\n",
    "plt.legend(['y=2x+4'])\n",
    "plt.title(\"Linear Regression\")\n",
    "plt.show()\n",
    "\n",
    "#Converting the datasets into tensors:\n",
    "tensor_x = torch.from_numpy(X_train)"
   ]
  }
 ],
 "metadata": {
  "kernelspec": {
   "display_name": "Python 3.10.2 64-bit",
   "language": "python",
   "name": "python3"
  },
  "language_info": {
   "codemirror_mode": {
    "name": "ipython",
    "version": 3
   },
   "file_extension": ".py",
   "mimetype": "text/x-python",
   "name": "python",
   "nbconvert_exporter": "python",
   "pygments_lexer": "ipython3",
   "version": "3.10.2"
  },
  "orig_nbformat": 4,
  "vscode": {
   "interpreter": {
    "hash": "afb734500600fd355917ca529030176ea0ca205570884b88f2f6f7d791fd3fbe"
   }
  }
 },
 "nbformat": 4,
 "nbformat_minor": 2
}
