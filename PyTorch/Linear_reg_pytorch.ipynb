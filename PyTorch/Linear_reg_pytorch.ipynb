{
  "cells": [
    {
      "cell_type": "markdown",
      "metadata": {
        "id": "89opVsVxHqBs"
      },
      "source": [
        "**DEMONSTARTING A LINEAR REGRESSION MODEL USING PYTORCH**\n",
        "<br>We are going to construct a linear regression model using a simple perceptron. The regression line that our model will predict is y = 3A + 1.5B + 7C - 1.3D - 5E + 5\n",
        "<br>The train and test dataset is going to be constructed by us in the form of a numpy array by using a bunch of random numbers. Every sample will consist of 5 features labeled as 'A' to 'E' will the target value labeled as 'Y'. We'll have 80 samples in the train dataset and 10 samples in our test dataset."
      ]
    },
    {
      "cell_type": "code",
      "execution_count": 1,
      "metadata": {
        "colab": {
          "base_uri": "https://localhost:8080/"
        },
        "id": "PxKeHUkMHqBz",
        "outputId": "bdfd2519-80a2-42be-841f-6ff89a49e4d4"
      },
      "outputs": [
        {
          "output_type": "stream",
          "name": "stdout",
          "text": [
            "Training data\n",
            "Shape of X and Y: (80, 6)\n",
            "\n",
            "Training Datset:\n",
            " ╒═══════════╤═════════╤═════════╤═════════╤══════════╤══════════╕\n",
            "│         A │       B │       C │       D │        E │        Y │\n",
            "╞═══════════╪═════════╪═════════╪═════════╪══════════╪══════════╡\n",
            "│ 2.65571   │ 8.96517 │ 9.70293 │ 5.853   │ 0.759053 │  82.9313 │\n",
            "├───────────┼─────────┼─────────┼─────────┼──────────┼──────────┤\n",
            "│ 8.20912   │ 7.49404 │ 7.34761 │ 9.99074 │ 1.89547  │  69.8364 │\n",
            "├───────────┼─────────┼─────────┼─────────┼──────────┼──────────┤\n",
            "│ 1.477e-05 │ 8.00588 │ 1.95565 │ 7.7982  │ 8.64265  │ -22.6525 │\n",
            "├───────────┼─────────┼─────────┼─────────┼──────────┼──────────┤\n",
            "│ 8.08212   │ 8.66539 │ 7.57224 │ 4.17526 │ 4.74185  │  66.1131 │\n",
            "├───────────┼─────────┼─────────┼─────────┼──────────┼──────────┤\n",
            "│ 3.84837   │ 1.86845 │ 8.77084 │ 3.67017 │ 7.12768  │  40.334  │\n",
            "╘═══════════╧═════════╧═════════╧═════════╧══════════╧══════════╛\n",
            "\n",
            "Test Datset:\n",
            " ╒═════╤═════╤═════╤═════╤═════╤══════╕\n",
            "│   A │   B │   C │   D │   E │    Y │\n",
            "╞═════╪═════╪═════╪═════╪═════╪══════╡\n",
            "│   0 │   1 │   2 │   3 │   4 │ -3.4 │\n",
            "├─────┼─────┼─────┼─────┼─────┼──────┤\n",
            "│   1 │   2 │   3 │   4 │   5 │  1.8 │\n",
            "├─────┼─────┼─────┼─────┼─────┼──────┤\n",
            "│   2 │   3 │   4 │   5 │   6 │  7   │\n",
            "├─────┼─────┼─────┼─────┼─────┼──────┤\n",
            "│   3 │   4 │   5 │   6 │   7 │ 12.2 │\n",
            "├─────┼─────┼─────┼─────┼─────┼──────┤\n",
            "│   4 │   5 │   6 │   7 │   8 │ 17.4 │\n",
            "╘═════╧═════╧═════╧═════╧═════╧══════╛\n"
          ]
        }
      ],
      "source": [
        "#Loading the necessary modules:\n",
        "import numpy as np\n",
        "import matplotlib.pyplot as plt\n",
        "from tabulate import tabulate\n",
        "\n",
        "'''Constructing the training dataset:\n",
        "Create a 80x5 numpy array filled with random numbers, this will be array containing feature vectors\n",
        "Create a 80x1 numpy array containing the target values'''\n",
        "\n",
        "train_features=np.random.rand(80,5)*10                      \n",
        "train_y=3*train_features[:,0]+1.5*train_features[:,1]+7*train_features[:,2]-1.3*train_features[:,3]-5*train_features[:,4]+5\n",
        "train_dataset=np.column_stack((train_features,train_y))     #Stack the feature and the target vectors column-wise, resulting in a 80x6 matrix\n",
        "\n",
        "#Constructing the test dataset:\n",
        "test_features=np.array([[i+k for i in range(5)] for k in range(10)])\n",
        "test_y=3*test_features[:,0]+1.5*test_features[:,1]+7*test_features[:,2]-1.3*test_features[:,3]-5*test_features[:,4]+5\n",
        "test_dataset=np.column_stack((test_features,test_y))\n",
        "\n",
        "#Printing the training and test datasets:\n",
        "print(\"Training data\\nShape of X and Y:\",train_dataset.shape)\n",
        "print(\"\\nTraining Datset:\\n\",tabulate(train_dataset[0:5,:],[\"A\",\"B\",\"C\",\"D\",\"E\",\"Y\"],tablefmt=\"fancy_grid\"))\n",
        "print(\"\\nTest Datset:\\n\",tabulate(test_dataset[0:5,:],[\"A\",\"B\",\"C\",\"D\",\"E\",\"Y\"],tablefmt=\"fancy_grid\"))\n",
        "\n",
        "#Store the weights and biases for future comparison\n",
        "weights = np.array([3,1.5,7,-1.3,-5])\n",
        "bias = 5"
      ]
    },
    {
      "cell_type": "markdown",
      "source": [
        "**CREATING A CUSTOM DATASET OBJECT**\n",
        "<br>A dataset object will encode all necessary information about our datasets. It will store the dataset, the operations that are going to be performed when fetching some sample from the dataset, and other such functions. "
      ],
      "metadata": {
        "id": "C-tEdN_WHyvT"
      }
    },
    {
      "cell_type": "code",
      "source": [
        "#Necessary imports:\n",
        "import torch\n",
        "from torch.utils.data import Dataset, DataLoader\n",
        "\n",
        "#Create a custom Dataset class that will extend the Dataset class defined in torch.utils.data\n",
        "class CustomDataset(Dataset):\n",
        "  \n",
        "  '''Defining class constructor:\n",
        "  Self passes a reference to the object being refereed to, type defines whether its the test or train dataset\n",
        "  datasets contains the train or test datasets, the i'th feature vector can be accessed as [i,0:4] with its target value as [i,5]'''\n",
        "\n",
        "  def __init__(self,type,datasets):\n",
        "    self.data = datasets.astype(np.float32)                       #Convert the numpy array to type float32 (will be required later)\n",
        "    print(\"PRINTING THE SHAPE OF THE\",type.upper(),\"DATASET:\")\n",
        "    print(\"Shape of dataset:\\nDataset contains %d samples and %d features\\n\"%(self.data.shape[0],self.data.shape[1]-1))\n",
        "\n",
        "  #Fetching data from a specific index:\n",
        "  #idx is the index of the sample that is to be retreived\n",
        "\n",
        "  def __getitem__(self,idx):\n",
        "    feature_vector = torch.from_numpy(self.data[idx][0:5])         #Create a Tensor* from a numpy array\n",
        "    target_val = torch.from_numpy(self.data[idx][5].reshape(1,1))  #Convert the target value into a single value (just in case)\n",
        "    return(feature_vector,target_val)\n",
        "\n",
        "  #Get the length of the dataset (The number of samples):\n",
        "  def __len__(self):\n",
        "    return(self.data.shape[0])\n",
        "\n",
        "'''Creating Dataloaders:\n",
        "As its name implies, a dataloader is used for loading a dataset object. It wraps an iterable around \n",
        "the Dataset to enable easy access to the samples. batch_size is the number of samples that are going to fetched in every batch.\n",
        "shuffle specifies whether the samples are to be shuffled before loading them.''' \n",
        "\n",
        "trainloader = DataLoader(CustomDataset(\"train\",train_dataset),batch_size=8,shuffle=True)\n",
        "testloader = DataLoader(CustomDataset(\"test\",test_dataset),batch_size=8,shuffle=True)\n",
        "\n",
        "'''*A Tensor is a multi-dimensional array that is used for storing data in PyTorch models. It is an improvement over normal matrices/arrays in terms of \n",
        "#floating point calculations, which can be considered as the life-blood of any deep learning model.'''"
      ],
      "metadata": {
        "colab": {
          "base_uri": "https://localhost:8080/",
          "height": 196
        },
        "id": "JN9h6l79HyWG",
        "outputId": "655f2b8e-c050-488e-fbd1-9efdd0dd1298"
      },
      "execution_count": 2,
      "outputs": [
        {
          "output_type": "stream",
          "name": "stdout",
          "text": [
            "PRINTING THE SHAPE OF THE TRAIN DATASET:\n",
            "Shape of dataset:\n",
            "Dataset contains 80 samples and 5 features\n",
            "\n",
            "PRINTING THE SHAPE OF THE TEST DATASET:\n",
            "Shape of dataset:\n",
            "Dataset contains 10 samples and 5 features\n",
            "\n"
          ]
        },
        {
          "output_type": "execute_result",
          "data": {
            "text/plain": [
              "'*A Tensor is a multi-dimensional array that is used for storing data in PyTorch models. It is an improvement over normal matrices/arrays in terms of \\n#floating point calculations, which can be considered as the life-blood of any deep learning model.'"
            ],
            "application/vnd.google.colaboratory.intrinsic+json": {
              "type": "string"
            }
          },
          "metadata": {},
          "execution_count": 2
        }
      ]
    },
    {
      "cell_type": "code",
      "source": [
        "#TESTING THE DATASET CLASS DEFINED EARLIER\n",
        "ob=CustomDataset(\"train\",train_dataset)\n",
        "ob.__len__()\n",
        "ob.__getitem__(1)"
      ],
      "metadata": {
        "colab": {
          "base_uri": "https://localhost:8080/"
        },
        "id": "fvz-5YfE9kY_",
        "outputId": "aafe6ec9-3ce9-400f-af68-37297c7af6a8"
      },
      "execution_count": 3,
      "outputs": [
        {
          "output_type": "stream",
          "name": "stdout",
          "text": [
            "PRINTING THE SHAPE OF THE TRAIN DATASET:\n",
            "Shape of dataset:\n",
            "Dataset contains 80 samples and 5 features\n",
            "\n"
          ]
        },
        {
          "output_type": "execute_result",
          "data": {
            "text/plain": [
              "(tensor([8.2091, 7.4940, 7.3476, 9.9907, 1.8955]), tensor([[69.8364]]))"
            ]
          },
          "metadata": {},
          "execution_count": 3
        }
      ]
    },
    {
      "cell_type": "markdown",
      "source": [
        "**Describing how the Dataloader looks and works like:**\n",
        "<br>The Dataloader, as mentioned earlier, simply wraps an iterable around the Dataset object as defined in the custom dataset class. For implementation details on how elements are fetched from the dataset, refer to the custom dataset class created earlier.\n",
        "<br>Notice how every 'sample' actually consists of the number of samplesas defined in batch size when creating the dataloader. Thus the entire dataset is divided into n/b number of batches where n = number of samples, b = batch size."
      ],
      "metadata": {
        "id": "4aSpntseSSp8"
      }
    },
    {
      "cell_type": "code",
      "source": [
        "#Printing some of the batches\n",
        "i=1\n",
        "for x_val, y_val in trainloader:                                          #X_val contains the feature vector, y_val the target value\n",
        "  print(f\"{i}. x ={x_val.numpy()}\\ny={y_val.squeeze().numpy()}\\n\")        #.numpy() converts a tensor to a numpy, .squeeze() removes any extra, useless\n",
        "                                                                          #dimensions in a tensor\n",
        "  if i==1:\n",
        "    test_input_data = x_val                                               #Store a single batch for testing and debugging purpose\n",
        "    test_output_data = y_val\n",
        "  if i==3:                                                                #We only need to see the first few batches to get an idea\n",
        "    break\n",
        "  i+=1"
      ],
      "metadata": {
        "colab": {
          "base_uri": "https://localhost:8080/"
        },
        "id": "CXEoeYp5RsNe",
        "outputId": "8c61279f-708b-4686-8d92-0eaa52ebdbe4"
      },
      "execution_count": 4,
      "outputs": [
        {
          "output_type": "stream",
          "name": "stdout",
          "text": [
            "1. x =[[2.8627524 8.230325  2.3306167 4.439615  3.941504 ]\n",
            " [1.734002  2.5520337 0.499811  1.149166  2.155439 ]\n",
            " [2.4356983 6.3251443 1.4687523 1.2502189 4.1528687]\n",
            " [2.7392118 3.9452689 0.9429973 5.585685  6.620415 ]\n",
            " [1.0603603 9.381672  6.702698  1.0448259 7.1368055]\n",
            " [6.504115  4.422126  3.309543  7.2269926 9.5860615]\n",
            " [3.3987231 3.9274616 6.001424  9.343537  7.7310314]\n",
            " [3.1412601 2.801098  6.1998806 7.053976  9.406792 ]]\n",
            "y=[ 16.769041    5.2576237   9.686448  -14.626946   32.130177   -3.013063\n",
            "  12.295574    5.8204613]\n",
            "\n",
            "2. x =[[6.474828   0.9616233  3.3291519  0.4084269  5.5535245 ]\n",
            " [0.44827172 4.700514   0.966688   9.628265   0.03691919]\n",
            " [6.7593627  1.7257448  2.417915   8.809715   5.1467357 ]\n",
            " [6.1828914  5.7660666  3.9997358  8.481402   9.552987  ]\n",
            " [5.6892886  0.4656631  6.280756   9.590663   0.17531641]\n",
            " [7.1319666  7.5756583  0.7023167  6.3765826  9.41389   ]\n",
            " [9.320354   5.094371   7.894435   9.9530115  9.656826  ]\n",
            " [3.9131055  4.3228664  9.50942    9.977547   5.4834433 ]]\n",
            "y=[ 20.872404   7.46106    7.605802   1.405167  53.387207 -12.683401\n",
            "  34.640617  49.40153 ]\n",
            "\n",
            "3. x =[[3.6196792  3.6489487  4.1439     4.1532025  0.13196991]\n",
            " [7.501879   9.052392   7.5038857  5.029236   1.8009725 ]\n",
            " [4.607954   8.983115   3.460123   3.5585563  3.736821  ]\n",
            " [4.098791   8.426908   9.802229   4.080617   7.695287  ]\n",
            " [2.2314987  6.4166207  2.973223   0.14232357 0.4806403 ]\n",
            " [2.6557114  8.965172   9.702934   5.852998   0.7590529 ]\n",
            " [7.2989883  7.2173176  6.284339   2.9481976  1.1095971 ]\n",
            " [9.522131   6.0387144  5.6801114  2.6754022  3.2486265 ]]\n",
            "y=[44.280746 78.06856  33.209167 54.7711   39.543766 82.93127  72.33267\n",
            " 62.66409 ]\n",
            "\n"
          ]
        }
      ]
    },
    {
      "cell_type": "markdown",
      "source": [
        "**MAKING THE MODEL**\n",
        "<br>We'll make a simple perceptron consisting of no hidden layers. It will have 5 input nodes corresponding to the 5 features, and 1 output node. No activation function will be required.\n",
        "<br>Here's how a perceptron looks like:\n",
        "![Signal-flow-graph-of-the-perceptron-A-single-perceptron-is-not-very-useful-because-of-its.png](data:image/png;base64,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)"
      ],
      "metadata": {
        "id": "lMafoYLF0xti"
      }
    },
    {
      "cell_type": "code",
      "source": [
        "#Nessecary imports\n",
        "\n",
        "from torch import nn                                                            #The nn module is the root class of all neural-network related classes\n",
        "\n",
        "#Use CUDA if GPU is available, else use cpu\n",
        "device = \"cuda\" if torch.cuda.is_available() else \"cpu\"\n",
        "print(f\"Using {device} device\")\n",
        "\n",
        "#Defining the neural network\n",
        "# We define our neural network by subclassing nn.Module, and initialize the neural network layers in __init__. \n",
        "# Every nn.Module subclass implements the operations on input data in the forward method.\n",
        "\n",
        "class MyModel(nn.Module):\n",
        "\n",
        "  #Class constructor:\n",
        "  # Initializes the layers, with the input and the output nodes along with the type of activation function to be applied\n",
        "  # (Linear in this case)\n",
        "  def __init__(self,in_features,out_features):\n",
        "     super(MyModel, self).__init__()\n",
        "     self.layer = nn.Linear(in_features,out_features)\n",
        "  \n",
        "  #Defines the feed forward operation\n",
        "  def forward(self,x):\n",
        "     out = self.layer(x)\n",
        "     return out\n",
        "\n",
        "#Creating an instance of the model created\n",
        "model = MyModel(train_dataset.shape[1]-1,1).to(device)\n",
        "print(f\"Model description: \\n{model}\")"
      ],
      "metadata": {
        "id": "TcAnHZzD0xCd",
        "colab": {
          "base_uri": "https://localhost:8080/"
        },
        "outputId": "933be8f5-0d2f-403e-d69b-4ff5bb89d115"
      },
      "execution_count": 5,
      "outputs": [
        {
          "output_type": "stream",
          "name": "stdout",
          "text": [
            "Using cpu device\n",
            "Model description: \n",
            "MyModel(\n",
            "  (layer): Linear(in_features=5, out_features=1, bias=True)\n",
            ")\n"
          ]
        }
      ]
    },
    {
      "cell_type": "code",
      "source": [
        "#TESTING THE MODEL CREATED\n",
        "print(f\"Shape of input data: {test_input_data.size()}\\nShape of Output Data:{test_output_data.squeeze().size()}\")\n",
        "print(f\"Input data: {test_input_data}\\n Output data: {test_output_data.squeeze()}\")\n",
        "output=model(test_input_data)                                                   #Pass the input data to the model to make a forward pass\n",
        "print(f\"Size of output: {output.squeeze().size()}\")\n",
        "lossFn = nn.MSELoss()\n",
        "lossval = lossFn(output.squeeze(),test_output_data.squeeze())\n",
        "print(f\"Predictions: {output}\\nLoss={lossval.item()}\")\n",
        "for name, param in model.named_parameters():                                    #View the initial weights and biases of the model\n",
        "    print(f\"Layer: {name} | Size: {param.size()} | Values : {param[:2]} \\n\")"
      ],
      "metadata": {
        "colab": {
          "base_uri": "https://localhost:8080/"
        },
        "id": "9iRU9vw204HU",
        "outputId": "c705eef6-df33-4184-8755-7c40be970453"
      },
      "execution_count": 6,
      "outputs": [
        {
          "output_type": "stream",
          "name": "stdout",
          "text": [
            "Shape of input data: torch.Size([8, 5])\n",
            "Shape of Output Data:torch.Size([8])\n",
            "Input data: tensor([[2.8628, 8.2303, 2.3306, 4.4396, 3.9415],\n",
            "        [1.7340, 2.5520, 0.4998, 1.1492, 2.1554],\n",
            "        [2.4357, 6.3251, 1.4688, 1.2502, 4.1529],\n",
            "        [2.7392, 3.9453, 0.9430, 5.5857, 6.6204],\n",
            "        [1.0604, 9.3817, 6.7027, 1.0448, 7.1368],\n",
            "        [6.5041, 4.4221, 3.3095, 7.2270, 9.5861],\n",
            "        [3.3987, 3.9275, 6.0014, 9.3435, 7.7310],\n",
            "        [3.1413, 2.8011, 6.1999, 7.0540, 9.4068]])\n",
            " Output data: tensor([ 16.7690,   5.2576,   9.6864, -14.6269,  32.1302,  -3.0131,  12.2956,\n",
            "          5.8205])\n",
            "Size of output: torch.Size([8])\n",
            "Predictions: tensor([[ 0.3697],\n",
            "        [-0.5461],\n",
            "        [-0.7825],\n",
            "        [ 0.3600],\n",
            "        [-2.1048],\n",
            "        [-1.3996],\n",
            "        [-0.2172],\n",
            "        [-1.5027]], grad_fn=<AddmmBackward0>)\n",
            "Loss=252.7086944580078\n",
            "Layer: layer.weight | Size: torch.Size([1, 5]) | Values : tensor([[-0.3450,  0.1473, -0.3386,  0.4023, -0.1314]],\n",
            "       grad_fn=<SliceBackward0>) \n",
            "\n",
            "Layer: layer.bias | Size: torch.Size([1]) | Values : tensor([-0.3334], grad_fn=<SliceBackward0>) \n",
            "\n"
          ]
        }
      ]
    },
    {
      "cell_type": "markdown",
      "source": [
        "**MODEL TRAINING AND OPTIMIZATION**\n",
        "<br>Here we will define the loss function, the optimization function and the other hyperparameters we will need to train our model. We will also define the training loop where our model will make predictions, calculate loss, gradients and update its weights and biases."
      ],
      "metadata": {
        "id": "rqv4oifwCB2W"
      }
    },
    {
      "cell_type": "code",
      "source": [
        "#Initializing hyperparams\n",
        "\n",
        "alpha = 0.001                                                                   #Learning rate\n",
        "epochs = 80                                                                     #Number of iterations\n",
        "\n",
        "#Initializing the loss fn\n",
        "\n",
        "loss_fn = nn.MSELoss()                                                          #Using Mean Squared Error since its a regression problem\n",
        "\n",
        "#Initializing the optimization/learning algorithm:\n",
        "\n",
        "optimizer = torch.optim.SGD(model.parameters(),lr=alpha,momentum=0.8)           #Using Stochastic Gradient descent with momentum to reduce overfitting\n",
        "y_train=[]\n",
        "y_test=[]\n",
        "\n",
        "'''Optimization loop\n",
        "Each time this loop runs, a batch will be fetched by the dataloader defined earlier, and the model will make predictions \n",
        "on each sample present in the batch. Then the loss will be calculated over the entire batch using the predictions made earlier\n",
        "This process will be repeated for all the batches, in every iteration.'''\n",
        "\n",
        "for epoch in range(epochs):\n",
        "  \n",
        "  #Reset training and test loss in every epoch\n",
        "  trainloss=0\n",
        "  testloss=0\n",
        "\n",
        "  #Use the dataloader to load training samples from the training dataset, one batch at a time\n",
        "  for x_vector, target_val in trainloader:\n",
        "    \n",
        "    # Compute prediction and loss:\n",
        "\n",
        "    optimizer.zero_grad()                                                       #Reset gradients so that they don't add up    \n",
        "    pred_val = model(x_vector)                                                  #Make a forward pass to get the predictions, will generate a batch_size x 1 vector\n",
        "    loss = loss_fn(pred_val.squeeze(),target_val.squeeze())                     #Squeeze out any useless dims and calculate loss using loss function\n",
        "\n",
        "    # Backpropagation\n",
        "\n",
        "    loss.backward()                                                             #Calculate gradients on the loss calculated           \n",
        "    optimizer.step()                                                            #Update weights using the optimization function defined earlier\n",
        "\n",
        "    #Update training loss after each batch is loaded\n",
        "    trainloss+=loss.item()\n",
        "  \n",
        "  '''Using the parameters/weights learned so far, test the model on the test dataset\n",
        "  The process followed below is the same one followed in case of the training dataset, only difference is no gradients are calculated\n",
        "  or weights updated as this is the test dataset.''' \n",
        "\n",
        "  for x_vector, target_val in testloader:\n",
        "\n",
        "    #Predict for each sample in a batch:\n",
        "    pred_val = model(x_vector)\n",
        "    loss = loss_fn(pred_val.squeeze(),target_val.squeeze())\n",
        "\n",
        "    #Since this is the test dataset, just update the test loss and do NOT update the weights\n",
        "    testloss+=loss.item()\n",
        "  \n",
        "  #Print training and test loss in every epoch:\n",
        "  print(\"Epoch: %d\\tTraining loss: %1.4f\\tTest loss: %1.4f\" %(epoch+1,trainloss,testloss))\n",
        "  y_train.append(trainloss)\n",
        "  y_test.append(testloss)\n",
        "\n",
        "#Plot training vs test error to get a better view of how our model performs  \n",
        "plt.plot([i+1 for i in range(epochs)],y_train,y_test)\n",
        "plt.legend(['Training loss','Test loss'])\n",
        "plt.title('Training Loss vs Test Loss')\n",
        "plt.show()"
      ],
      "metadata": {
        "colab": {
          "base_uri": "https://localhost:8080/",
          "height": 1000
        },
        "id": "aDt1u4kOCGRx",
        "outputId": "d85d2d03-0369-4638-f025-4f9c5bf5b9b7"
      },
      "execution_count": 7,
      "outputs": [
        {
          "output_type": "stream",
          "name": "stdout",
          "text": [
            "Epoch: 1\tTraining loss: 7876.5757\tTest loss: 12.1126\n",
            "Epoch: 2\tTraining loss: 1224.4000\tTest loss: 86.3487\n",
            "Epoch: 3\tTraining loss: 51.9751\tTest loss: 23.0118\n",
            "Epoch: 4\tTraining loss: 17.5847\tTest loss: 31.9455\n",
            "Epoch: 5\tTraining loss: 17.8242\tTest loss: 8.8059\n",
            "Epoch: 6\tTraining loss: 15.2718\tTest loss: 22.5736\n",
            "Epoch: 7\tTraining loss: 15.5227\tTest loss: 15.2208\n",
            "Epoch: 8\tTraining loss: 16.2406\tTest loss: 9.9020\n",
            "Epoch: 9\tTraining loss: 14.7313\tTest loss: 9.0305\n",
            "Epoch: 10\tTraining loss: 16.7754\tTest loss: 13.1404\n",
            "Epoch: 11\tTraining loss: 14.2656\tTest loss: 10.0714\n",
            "Epoch: 12\tTraining loss: 14.6463\tTest loss: 13.7737\n",
            "Epoch: 13\tTraining loss: 14.2734\tTest loss: 11.9676\n",
            "Epoch: 14\tTraining loss: 14.1221\tTest loss: 14.1965\n",
            "Epoch: 15\tTraining loss: 13.8020\tTest loss: 13.8279\n",
            "Epoch: 16\tTraining loss: 13.9723\tTest loss: 10.0988\n",
            "Epoch: 17\tTraining loss: 13.6339\tTest loss: 12.1947\n",
            "Epoch: 18\tTraining loss: 12.9504\tTest loss: 11.3901\n",
            "Epoch: 19\tTraining loss: 13.2616\tTest loss: 16.3431\n",
            "Epoch: 20\tTraining loss: 12.8386\tTest loss: 12.8416\n",
            "Epoch: 21\tTraining loss: 12.4259\tTest loss: 6.7670\n",
            "Epoch: 22\tTraining loss: 14.1763\tTest loss: 10.2790\n",
            "Epoch: 23\tTraining loss: 12.9315\tTest loss: 13.3836\n",
            "Epoch: 24\tTraining loss: 12.1243\tTest loss: 15.1492\n",
            "Epoch: 25\tTraining loss: 14.6458\tTest loss: 11.1012\n",
            "Epoch: 26\tTraining loss: 12.9790\tTest loss: 7.1452\n",
            "Epoch: 27\tTraining loss: 11.8532\tTest loss: 15.0100\n",
            "Epoch: 28\tTraining loss: 11.8860\tTest loss: 24.0975\n",
            "Epoch: 29\tTraining loss: 12.2664\tTest loss: 9.7124\n",
            "Epoch: 30\tTraining loss: 13.0336\tTest loss: 6.5921\n",
            "Epoch: 31\tTraining loss: 11.0141\tTest loss: 10.8312\n",
            "Epoch: 32\tTraining loss: 11.4876\tTest loss: 11.0113\n",
            "Epoch: 33\tTraining loss: 11.1535\tTest loss: 15.7831\n",
            "Epoch: 34\tTraining loss: 10.9925\tTest loss: 9.8114\n",
            "Epoch: 35\tTraining loss: 10.6983\tTest loss: 11.4787\n",
            "Epoch: 36\tTraining loss: 10.8521\tTest loss: 7.6486\n",
            "Epoch: 37\tTraining loss: 11.2957\tTest loss: 10.4307\n",
            "Epoch: 38\tTraining loss: 11.0916\tTest loss: 10.9196\n",
            "Epoch: 39\tTraining loss: 11.8820\tTest loss: 8.4868\n",
            "Epoch: 40\tTraining loss: 10.3578\tTest loss: 7.3221\n",
            "Epoch: 41\tTraining loss: 10.1617\tTest loss: 11.3772\n",
            "Epoch: 42\tTraining loss: 10.0569\tTest loss: 6.1888\n",
            "Epoch: 43\tTraining loss: 10.2643\tTest loss: 6.9467\n",
            "Epoch: 44\tTraining loss: 9.9819\tTest loss: 9.8134\n",
            "Epoch: 45\tTraining loss: 10.4693\tTest loss: 7.8716\n",
            "Epoch: 46\tTraining loss: 10.3524\tTest loss: 6.3301\n",
            "Epoch: 47\tTraining loss: 10.6244\tTest loss: 8.6374\n",
            "Epoch: 48\tTraining loss: 9.2065\tTest loss: 6.0165\n",
            "Epoch: 49\tTraining loss: 9.9114\tTest loss: 8.7074\n",
            "Epoch: 50\tTraining loss: 9.4529\tTest loss: 4.3722\n",
            "Epoch: 51\tTraining loss: 8.8855\tTest loss: 8.3076\n",
            "Epoch: 52\tTraining loss: 9.8522\tTest loss: 9.2790\n",
            "Epoch: 53\tTraining loss: 9.7666\tTest loss: 7.9674\n",
            "Epoch: 54\tTraining loss: 9.0260\tTest loss: 4.3469\n",
            "Epoch: 55\tTraining loss: 10.6546\tTest loss: 6.9843\n",
            "Epoch: 56\tTraining loss: 9.2002\tTest loss: 7.7049\n",
            "Epoch: 57\tTraining loss: 8.8134\tTest loss: 8.0744\n",
            "Epoch: 58\tTraining loss: 8.6970\tTest loss: 9.4164\n",
            "Epoch: 59\tTraining loss: 7.8600\tTest loss: 8.5470\n",
            "Epoch: 60\tTraining loss: 7.9222\tTest loss: 8.0344\n",
            "Epoch: 61\tTraining loss: 8.2936\tTest loss: 6.8915\n",
            "Epoch: 62\tTraining loss: 7.8909\tTest loss: 12.0823\n",
            "Epoch: 63\tTraining loss: 8.3804\tTest loss: 7.5510\n",
            "Epoch: 64\tTraining loss: 8.1749\tTest loss: 8.6106\n",
            "Epoch: 65\tTraining loss: 9.8411\tTest loss: 8.7212\n",
            "Epoch: 66\tTraining loss: 7.8513\tTest loss: 8.4514\n",
            "Epoch: 67\tTraining loss: 7.1300\tTest loss: 10.2384\n",
            "Epoch: 68\tTraining loss: 7.1834\tTest loss: 6.7527\n",
            "Epoch: 69\tTraining loss: 7.0579\tTest loss: 9.8974\n",
            "Epoch: 70\tTraining loss: 7.1004\tTest loss: 6.7184\n",
            "Epoch: 71\tTraining loss: 6.9957\tTest loss: 5.1721\n",
            "Epoch: 72\tTraining loss: 7.0813\tTest loss: 7.5936\n",
            "Epoch: 73\tTraining loss: 7.0347\tTest loss: 5.7266\n",
            "Epoch: 74\tTraining loss: 6.6981\tTest loss: 7.2343\n",
            "Epoch: 75\tTraining loss: 6.6705\tTest loss: 5.8025\n",
            "Epoch: 76\tTraining loss: 6.4630\tTest loss: 4.4683\n",
            "Epoch: 77\tTraining loss: 6.9833\tTest loss: 5.6564\n",
            "Epoch: 78\tTraining loss: 6.3927\tTest loss: 6.6005\n",
            "Epoch: 79\tTraining loss: 6.1771\tTest loss: 3.7429\n",
            "Epoch: 80\tTraining loss: 6.2127\tTest loss: 5.1589\n"
          ]
        },
        {
          "output_type": "display_data",
          "data": {
            "text/plain": [
              "<Figure size 432x288 with 1 Axes>"
            ],
            "image/png": "[encoded data removed]"
          },
          "metadata": {
            "needs_background": "light"
          }
        }
      ]
    },
    {
      "cell_type": "code",
      "source": [
        "#TESTING THE MODEL AFTER IT HAS BEEN TRAINED\n",
        "\n",
        "test=np.array([3,1,4,2,6],dtype=np.float32)\n",
        "check=model(torch.from_numpy(test))\n",
        "actual = np.matmul(test,weights)\n",
        "print(f\"Predicted value: {check.detach().numpy()[0]}\\nActual value: {actual}\")  \n",
        "for name, param in model.named_parameters():\n",
        "    print(f\"{'Predicted weights:' if name=='layer.weight' else 'predicted bias'} {param[:2].detach().numpy()[0]}\")\n",
        "print(f\"Actual weights: {weights}\\nActual bias: {bias}\")"
      ],
      "metadata": {
        "colab": {
          "base_uri": "https://localhost:8080/"
        },
        "id": "tTHNhtwvM5RI",
        "outputId": "14b74838-baf2-468d-b3cc-977bb4392308"
      },
      "execution_count": 8,
      "outputs": [
        {
          "output_type": "stream",
          "name": "stdout",
          "text": [
            "Predicted value: 9.493069648742676\n",
            "Actual value: 5.899999999999999\n",
            "Predicted weights: [ 3.112025   1.6558194  7.123486  -1.1811001 -4.918354 ]\n",
            "predicted bias 1.8795559406280518\n",
            "Actual weights: [ 3.   1.5  7.  -1.3 -5. ]\n",
            "Actual bias: 5\n"
          ]
        }
      ]
    }
  ],
  "metadata": {
    "kernelspec": {
      "display_name": "Python 3.10.2 64-bit",
      "language": "python",
      "name": "python3"
    },
    "language_info": {
      "codemirror_mode": {
        "name": "ipython",
        "version": 3
      },
      "file_extension": ".py",
      "mimetype": "text/x-python",
      "name": "python",
      "nbconvert_exporter": "python",
      "pygments_lexer": "ipython3",
      "version": "3.10.2"
    },
    "orig_nbformat": 4,
    "vscode": {
      "interpreter": {
        "hash": "afb734500600fd355917ca529030176ea0ca205570884b88f2f6f7d791fd3fbe"
      }
    },
    "colab": {
      "provenance": [],
      "collapsed_sections": []
    }
  },
  "nbformat": 4,
  "nbformat_minor": 0
}