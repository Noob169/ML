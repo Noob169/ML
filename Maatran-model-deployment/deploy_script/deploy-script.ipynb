{
 "cells": [
  {
   "attachments": {},
   "cell_type": "markdown",
   "metadata": {},
   "source": [
    "<h1>The following notebook contains the scripts necessary for creating the endpoints and deploying the model to Azure ML</h2>\n",
    "<p> All of the cells must be executed for the model to be successfully deployed </p>"
   ]
  },
  {
   "cell_type": "code",
   "execution_count": 1,
   "metadata": {},
   "outputs": [],
   "source": [
    "# import required libraries\n",
    "from azure.ai.ml import MLClient\n",
    "from azure.ai.ml.entities import (\n",
    "    ManagedOnlineEndpoint,\n",
    "    ManagedOnlineDeployment,\n",
    "    Model,\n",
    "    Environment,\n",
    "    CodeConfiguration,\n",
    ")\n",
    "from azure.identity import DefaultAzureCredential"
   ]
  },
  {
   "attachments": {},
   "cell_type": "markdown",
   "metadata": {},
   "source": [
    "<h5>The following cell contains senstive environment variables and auth details and are therefore labeled as such. Please fill them out \n",
    "accordingly before executing the cell </h5>"
   ]
  },
  {
   "cell_type": "code",
   "execution_count": 2,
   "metadata": {},
   "outputs": [],
   "source": [
    "# enter details of your AzureML workspace\n",
    "subscription_id = \"cdc162f9-b8e0-4d8f-9712-62348a4d0c5f\"\n",
    "resource_group = \"boney0310-rg\"\n",
    "workspace = \"Maatran\""
   ]
  },
  {
   "cell_type": "code",
   "execution_count": 3,
   "metadata": {},
   "outputs": [],
   "source": [
    "# get a handle to the workspace\n",
    "ml_client = MLClient(\n",
    "    DefaultAzureCredential(), subscription_id, resource_group, workspace\n",
    ")"
   ]
  },
  {
   "attachments": {},
   "cell_type": "markdown",
   "metadata": {},
   "source": [
    "<h1>ONLINE DEPLOYMENT</h1>"
   ]
  },
  {
   "cell_type": "code",
   "execution_count": 4,
   "metadata": {},
   "outputs": [],
   "source": [
    "# Creating a unique endpoint name with current datetime to avoid conflicts\n",
    "import datetime\n",
    "\n",
    "online_endpoint_name = \"endpoint-\" + datetime.datetime.now().strftime(\"%m%d%H%M%f\")\n",
    "\n",
    "# create an online endpoint\n",
    "endpoint = ManagedOnlineEndpoint(\n",
    "    name=online_endpoint_name,\n",
    "    description=\"Endpoint for accessing or consuming the Maatran pregnancy risk classifier\",\n",
    "    auth_mode=\"key\",\n",
    "    tags={\"v\": 1.0},\n",
    ")"
   ]
  },
  {
   "cell_type": "code",
   "execution_count": 5,
   "metadata": {},
   "outputs": [
    {
     "data": {
      "text/plain": [
       "<azure.core.polling._poller.LROPoller at 0x27e69332320>"
      ]
     },
     "execution_count": 5,
     "metadata": {},
     "output_type": "execute_result"
    }
   ],
   "source": [
    "#Deploy the online endpoint\n",
    "ml_client.online_endpoints.begin_create_or_update(endpoint)"
   ]
  },
  {
   "cell_type": "code",
   "execution_count": 6,
   "metadata": {},
   "outputs": [],
   "source": [
    "#Register the model\n",
    "model = Model(path=\"../model/pregnancy_risk_classifier.pkl\")\n",
    "\n",
    "#Register the environment and the Docker img on which the model will run\n",
    "env = Environment(\n",
    "    conda_file=\"../model/environment/conda.yml\",\n",
    "    image=\"mcr.microsoft.com/azureml/openmpi3.1.2-ubuntu18.04:latest\",\n",
    ")\n",
    "\n",
    "#Create the deployment and register it with the previously created endpoint, model and environment\n",
    "blue_deployment = ManagedOnlineDeployment(\n",
    "    name=\"blue\",\n",
    "    endpoint_name=online_endpoint_name,\n",
    "    model=model,\n",
    "    environment=env,\n",
    "    code_configuration=CodeConfiguration(\n",
    "        code=\"../model/onlinescoring\", scoring_script=\"score.py\"\n",
    "    ),\n",
    "    instance_type=\"Standard_DS2_v2\",\n",
    "    instance_count=1,\n",
    ")"
   ]
  },
  {
   "cell_type": "code",
   "execution_count": 7,
   "metadata": {},
   "outputs": [
    {
     "name": "stderr",
     "output_type": "stream",
     "text": [
      "Check: endpoint endpoint-02070203078896 exists\n",
      "\u001b[32mUploading onlinescoring (0.0 MBs): 100%|##########| 1276/1276 [00:00<00:00, 11783.70it/s]\n",
      "\u001b[39m\n",
      "\n",
      "\u001b[32mUploading pregnancy_risk_classifier.pkl\u001b[32m (< 1 MB): 100%|##########| 5.00M/5.00M [00:07<00:00, 669kB/s]\n",
      "\u001b[39m\n",
      "\n",
      "data_collector is not a known attribute of class <class 'azure.ai.ml._restclient.v2022_02_01_preview.models._models_py3.ManagedOnlineDeployment'> and will be ignored\n"
     ]
    },
    {
     "data": {
      "text/plain": [
       "<azure.core.polling._poller.LROPoller at 0x27e693330d0>"
      ]
     },
     "execution_count": 7,
     "metadata": {},
     "output_type": "execute_result"
    },
    {
     "name": "stdout",
     "output_type": "stream",
     "text": [
      ".............................................................."
     ]
    }
   ],
   "source": [
    "#Deploy the model\n",
    "ml_client.online_deployments.begin_create_or_update(blue_deployment)"
   ]
  },
  {
   "cell_type": "code",
   "execution_count": 8,
   "metadata": {},
   "outputs": [
    {
     "data": {
      "text/plain": [
       "ManagedOnlineEndpoint({'public_network_access': 'Enabled', 'provisioning_state': 'Succeeded', 'scoring_uri': 'https://endpoint-02070203078896.centralindia.inference.ml.azure.com/score', 'openapi_uri': 'https://endpoint-02070203078896.centralindia.inference.ml.azure.com/swagger.json', 'name': 'endpoint-02070203078896', 'description': 'this is a sample online endpoint', 'tags': {'foo': 'bar'}, 'properties': {'azureml.onlineendpointid': '/subscriptions/cdc162f9-b8e0-4d8f-9712-62348a4d0c5f/resourcegroups/boney0310-rg/providers/microsoft.machinelearningservices/workspaces/maatran/onlineendpoints/endpoint-02070203078896', 'AzureAsyncOperationUri': 'https://management.azure.com/subscriptions/cdc162f9-b8e0-4d8f-9712-62348a4d0c5f/providers/Microsoft.MachineLearningServices/locations/centralindia/mfeOperationsStatus/oe:e84d0296-cfb8-4fc7-9550-f200ef2e4919:b0762ff9-0c27-48df-9262-eb9229eeb830?api-version=2022-02-01-preview'}, 'id': '/subscriptions/cdc162f9-b8e0-4d8f-9712-62348a4d0c5f/resourceGroups/boney0310-rg/providers/Microsoft.MachineLearningServices/workspaces/Maatran/onlineEndpoints/endpoint-02070203078896', 'Resource__source_path': None, 'base_path': 'e:\\\\Code\\\\ML\\\\Maatran\\\\deploy_script', 'creation_context': None, 'serialize': <msrest.serialization.Serializer object at 0x0000027E693BAB90>, 'auth_mode': 'key', 'location': 'centralindia', 'identity': <azure.ai.ml.entities._credentials.IdentityConfiguration object at 0x0000027E68FB4D00>, 'traffic': {'blue': 0}, 'mirror_traffic': {}, 'kind': 'Managed'})"
      ]
     },
     "execution_count": 8,
     "metadata": {},
     "output_type": "execute_result"
    }
   ],
   "source": [
    "#Check status of the endpoint\n",
    "ml_client.online_endpoints.get(name=online_endpoint_name)"
   ]
  },
  {
   "cell_type": "code",
   "execution_count": 13,
   "metadata": {},
   "outputs": [
    {
     "name": "stdout",
     "output_type": "stream",
     "text": [
      "Kind\tLocation\tName\n",
      "-------\t----------\t------------------------\n",
      "Managed\tcentralindia\tendpoint-02070203078896\n"
     ]
    }
   ],
   "source": [
    "#Print all deployed endpoints\n",
    "print(\"Kind\\tLocation\\tName\")\n",
    "print(\"-------\\t----------\\t------------------------\")\n",
    "for endpoint in ml_client.online_endpoints.list():\n",
    "    print(f\"{endpoint.kind}\\t{endpoint.location}\\t{endpoint.name}\")"
   ]
  },
  {
   "cell_type": "code",
   "execution_count": 10,
   "metadata": {},
   "outputs": [
    {
     "data": {
      "text/plain": [
       "\"Instance status:\\nSystemSetup: Succeeded\\nUserContainerImagePull: Succeeded\\nModelDownload: Succeeded\\nUserContainerStart: Succeeded\\n\\nContainer events:\\nKind: Pod, Name: Pulling, Type: Normal, Time: 2023-02-06T20:40:48.18905Z, Message: Start pulling container image\\nKind: Pod, Name: Downloading, Type: Normal, Time: 2023-02-06T20:40:48.745281Z, Message: Start downloading models\\nKind: Pod, Name: Pulled, Type: Normal, Time: 2023-02-06T20:41:41.44641Z, Message: Container image is pulled successfully\\nKind: Pod, Name: Downloaded, Type: Normal, Time: 2023-02-06T20:41:41.44641Z, Message: Models are downloaded successfully\\nKind: Pod, Name: Created, Type: Normal, Time: 2023-02-06T20:41:41.672125Z, Message: Created container inference-server\\nKind: Pod, Name: Started, Type: Normal, Time: 2023-02-06T20:41:41.784746Z, Message: Started container inference-server\\nKind: Pod, Name: ContainerReady, Type: Normal, Time: 2023-02-06T20:42:00.654256852Z, Message: Container is ready\\n\\nContainer logs:\\n\\n2023-02-06T20:41:42,377382941+00:00 | gunicorn/run | \\n2023-02-06T20:41:42,378904553+00:00 | gunicorn/run | ###############################################\\n2023-02-06T20:41:42,380515783+00:00 | gunicorn/run | AzureML Inference Server\\n2023-02-06T20:41:42,381941076+00:00 | gunicorn/run | ###############################################\\n2023-02-06T20:41:42,383283951+00:00 | gunicorn/run | \\n2023-02-06T20:41:43,225298800+00:00 | gunicorn/run | Starting AzureML Inference Server HTTP.\\n\\nAzure ML Inferencing HTTP server v0.7.7\\n\\n\\nServer Settings\\n---------------\\nEntry Script Name: /var/azureml-app/onlinescoring/score.py\\nModel Directory: /var/azureml-app/azureml-models/110526f3df10953fe305e43c122362b0/1\\nWorker Count: 1\\nWorker Timeout (seconds): 300\\nServer Port: 31311\\nApplication Insights Enabled: false\\nApplication Insights Key: None\\nInferencing HTTP server version: azmlinfsrv/0.7.7\\nCORS for the specified origins: None\\n\\n\\nServer Routes\\n---------------\\nLiveness Probe: GET   127.0.0.1:31311/\\nScore:          POST  127.0.0.1:31311/score\\n\\nStarting gunicorn 20.1.0\\nListening at: http://0.0.0.0:31311 (13)\\nUsing worker: sync\\nBooting worker with pid: 66\\nInitializing logger\\n2023-02-06 20:41:43,775 | root | INFO | Starting up app insights client\\nlogging socket was found. logging is available.\\nlogging socket was found. logging is available.\\n2023-02-06 20:41:43,775 | root | INFO | Starting up app insight hooks\\n2023-02-06 20:41:43,912 | root | INFO | Found user script at /var/azureml-app/onlinescoring/score.py\\n2023-02-06 20:41:43,913 | root | INFO | run() is not decorated. Server will invoke it with the input in JSON string.\\n2023-02-06 20:41:43,913 | root | INFO | Invoking user's init function\\nInit complete\\n2023-02-06 20:41:44,317 | root | INFO | Users's init has completed successfully\\n00000000-0000-0000-0000-000000000000,/azureml-envs/azureml_87d5a3dad1230231380571dcacea2aef/lib/python3.7/site-packages/sklearn/base.py:315: UserWarning: Trying to unpickle estimator DecisionTreeClassifier from version 1.0.2 when using version 0.24.2. This might lead to breaking code or invalid results. Use at your own risk.\\n  UserWarning)\\n00000000-0000-0000-0000-000000000000,/azureml-envs/azureml_87d5a3dad1230231380571dcacea2aef/lib/python3.7/site-packages/sklearn/base.py:315: UserWarning: Trying to unpickle estimator RandomForestClassifier from version 1.0.2 when using version 0.24.2. This might lead to breaking code or invalid results. Use at your own risk.\\n  UserWarning)\\n2023-02-06 20:41:44,317 | root | INFO | Swaggers are prepared for the following versions: [2, 3].\\n2023-02-06 20:41:44,317 | root | INFO | Scoring timeout setting is not found. Use default timeout: 3600000 ms\\n2023-02-06 20:41:44,318 | root | INFO | AML_FLASK_ONE_COMPATIBILITY is set. Patched Flask to ensure compatibility with Flask 1.\\n\\n\""
      ]
     },
     "execution_count": 10,
     "metadata": {},
     "output_type": "execute_result"
    }
   ],
   "source": [
    "#Get logs of the deployment\n",
    "ml_client.online_deployments.get_logs(\n",
    "    name=\"blue\", endpoint_name=online_endpoint_name, lines=50\n",
    ")"
   ]
  },
  {
   "cell_type": "code",
   "execution_count": 14,
   "metadata": {},
   "outputs": [
    {
     "data": {
      "text/plain": [
       "'[\"high risk\"]'"
      ]
     },
     "execution_count": 14,
     "metadata": {},
     "output_type": "execute_result"
    }
   ],
   "source": [
    "# test the blue deployment with some sample data\n",
    "ml_client.online_endpoints.invoke(\n",
    "    endpoint_name=online_endpoint_name,\n",
    "    deployment_name=\"blue\",\n",
    "    request_file=\"../model/sample_request_file.json\",\n",
    ")"
   ]
  },
  {
   "attachments": {},
   "cell_type": "markdown",
   "metadata": {},
   "source": [
    "<p>You can hence test the deployment by running the testDeployment.py script located at \"../Consume/\"<p>"
   ]
  }
 ],
 "metadata": {
  "kernelspec": {
   "display_name": "Python 3.10.2 64-bit",
   "language": "python",
   "name": "python3"
  },
  "language_info": {
   "codemirror_mode": {
    "name": "ipython",
    "version": 3
   },
   "file_extension": ".py",
   "mimetype": "text/x-python",
   "name": "python",
   "nbconvert_exporter": "python",
   "pygments_lexer": "ipython3",
   "version": "3.10.2"
  },
  "orig_nbformat": 4,
  "vscode": {
   "interpreter": {
    "hash": "afb734500600fd355917ca529030176ea0ca205570884b88f2f6f7d791fd3fbe"
   }
  }
 },
 "nbformat": 4,
 "nbformat_minor": 2
}
