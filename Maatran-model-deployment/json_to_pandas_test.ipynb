{
 "cells": [
  {
   "attachments": {},
   "cell_type": "markdown",
   "metadata": {},
   "source": [
    "<h3>The following notebook provides instructions on how to convert a JSON string\n",
    "to a numpy array</h3>\n",
    "<p> This is because the API receives the input data in the form of a JSON string, but\n",
    "the model can only operate on numpy or panda arrays of size 1x6 </p>"
   ]
  },
  {
   "cell_type": "code",
   "execution_count": 9,
   "metadata": {},
   "outputs": [],
   "source": [
    "import pandas as pd\n",
    "import json\n",
    "import numpy\n",
    "from pandas import json_normalize"
   ]
  },
  {
   "cell_type": "code",
   "execution_count": 11,
   "metadata": {},
   "outputs": [
    {
     "name": "stdout",
     "output_type": "stream",
     "text": [
      "[0.56 2.33 5.   2.   3.55]\n"
     ]
    }
   ],
   "source": [
    "#This is how the raw data which the model receives would look like \n",
    "jsonString = '''{\n",
    "    \"data\":[0.56,2.33,5,2,3.55]\n",
    "}'''\n",
    "data = json.loads(jsonString)[\"data\"]\n",
    "data = numpy.array(data)\n",
    "print(data)"
   ]
  },
  {
   "cell_type": "code",
   "execution_count": 12,
   "metadata": {},
   "outputs": [
    {
     "name": "stdout",
     "output_type": "stream",
     "text": [
      "[-0.80724718 -1.26112705 -0.82575085  0.69078914  1.70343448 -0.53208757]\n"
     ]
    }
   ],
   "source": [
    "arr = [-0.80724718, -1.26112705, -0.82575085,  0.69078914,  1.70343448, -0.53208757]\n",
    "data = numpy.array(arr)\n",
    "print(data)"
   ]
  }
 ],
 "metadata": {
  "kernelspec": {
   "display_name": "Python 3.10.2 64-bit",
   "language": "python",
   "name": "python3"
  },
  "language_info": {
   "codemirror_mode": {
    "name": "ipython",
    "version": 3
   },
   "file_extension": ".py",
   "mimetype": "text/x-python",
   "name": "python",
   "nbconvert_exporter": "python",
   "pygments_lexer": "ipython3",
   "version": "3.10.2"
  },
  "orig_nbformat": 4,
  "vscode": {
   "interpreter": {
    "hash": "afb734500600fd355917ca529030176ea0ca205570884b88f2f6f7d791fd3fbe"
   }
  }
 },
 "nbformat": 4,
 "nbformat_minor": 2
}
